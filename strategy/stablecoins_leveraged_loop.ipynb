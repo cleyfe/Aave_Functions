{
 "cells": [
  {
   "cell_type": "code",
   "execution_count": 1,
   "id": "fc1fb30a",
   "metadata": {},
   "outputs": [],
   "source": [
    "import os  # For fetching environment variables\n",
    "import sys\n",
    "\n",
    "# Add the parent directory to the sys.path\n",
    "module_path = os.path.abspath(os.path.join('..'))\n",
    "if module_path not in sys.path:\n",
    "    sys.path.append(module_path)"
   ]
  },
  {
   "cell_type": "code",
   "execution_count": 2,
   "id": "bba0ceba",
   "metadata": {},
   "outputs": [
    {
     "name": "stderr",
     "output_type": "stream",
     "text": [
      "/Users/cleme/cleyfe/Aave_Functions/aave_functions/lib/python3.9/site-packages/urllib3/__init__.py:35: NotOpenSSLWarning: urllib3 v2 only supports OpenSSL 1.1.1+, currently the 'ssl' module is compiled with 'LibreSSL 2.8.3'. See: https://github.com/urllib3/urllib3/issues/3020\n",
      "  warnings.warn(\n"
     ]
    }
   ],
   "source": [
    "import time\n",
    "import datetime\n",
    "import math\n",
    "import pandas as pd\n",
    "import numpy as np\n",
    "from aave_client import AaveClient"
   ]
  },
  {
   "cell_type": "markdown",
   "id": "3cb6edd7",
   "metadata": {},
   "source": [
    "# Settings"
   ]
  },
  {
   "cell_type": "code",
   "execution_count": 3,
   "id": "af18907a",
   "metadata": {},
   "outputs": [],
   "source": [
    "\n",
    "start_time=time.time()\n",
    "\n",
    "token=['USDC', 'USDT', 'DAI']\n",
    "\n",
    "general_path=os.path.abspath(os.path.dirname(os.getcwd()))\n",
    "result_template_path=general_path+'\\\\Result\\\\'+'\\\\'+f'{token} - Result Template.xlsx'\n",
    "\n",
    "# Initial Token Amount\n",
    "initial_token_amt = 100\n",
    "\n",
    "# Info on the AAVE web page\n",
    "# https://app.aave.com/#/deposit\n",
    "ltv_threshold=0.93\n",
    "max_ltv=0.9\n",
    "ltv_list=[0.9]\n",
    "\n",
    "RPC = \"POLYGON\"\n"
   ]
  },
  {
   "cell_type": "markdown",
   "id": "f1258dfc",
   "metadata": {},
   "source": [
    "# Initialize Client"
   ]
  },
  {
   "cell_type": "code",
   "execution_count": 4,
   "id": "87cba34a",
   "metadata": {},
   "outputs": [],
   "source": [
    "if RPC == \"POLYGON\":\n",
    "    RPC_URL = os.getenv(\"POLYGON_RPC_URL\")\n",
    "elif RPC == \"ETHEREUM\":\n",
    "    RPC_URL = os.getenv(\"MAINNET_RPC_URL\")\n",
    "elif RPC == \"ARBITRUM\":\n",
    "    RPC_URL = os.getenv(\"ARBITRUM_RPC_URL\")\n",
    "elif RPC == \"KOVAN\":\n",
    "    RPC_URL = os.getenv(\"KOVAN_RPC_URL\")\n",
    "elif RPC == \"MUMBAI\":\n",
    "    RPC_URL = os.getenv(\"MUMBAI_RPC_URL\")\n",
    "else:\n",
    "    RPC_URL = None  # or handle the case when the RPC does not match any known value\n",
    "\n",
    "# Define a dictionary to map RPC to the appropriate keyword argument\n",
    "rpc_url_args = {\n",
    "    \"POLYGON\": \"POLYGON_RPC_URL\",\n",
    "    \"ETHEREUM\": \"MAINNET_RPC_URL\",\n",
    "    \"ARBITRUM\": \"ARBITRUM_RPC_URL\",\n",
    "    \"KOVAN\": \"KOVAN_RPC_URL\",\n",
    "    \"MUMBAI\": \"MUMBAI_RPC_URL\"\n",
    "}\n",
    "\n",
    "# Determine the correct argument to pass based on the RPC value\n",
    "rpc_arg = {rpc_url_args[RPC]: RPC_URL}\n",
    "\n",
    "aave_client = AaveClient(WALLET_ADDRESS=os.getenv('WALLET_ADDRESS'),\n",
    "                                PRIVATE_WALLET_KEY=os.getenv('PRIVATE_WALLET_KEY'),\n",
    "                                GAS_STRATEGY=\"medium\",\n",
    "                                **rpc_arg)\n",
    "\n",
    "# Get the lending pool smart contract:\n",
    "lending_pool = aave_client.get_lending_pool()"
   ]
  },
  {
   "cell_type": "markdown",
   "id": "3cf5cd06",
   "metadata": {},
   "source": [
    "#  Find deposit and borrow assets"
   ]
  },
  {
   "cell_type": "code",
   "execution_count": 8,
   "id": "f36026f2",
   "metadata": {},
   "outputs": [
    {
     "name": "stdout",
     "output_type": "stream",
     "text": [
      "Supplied asset is:  0x2791Bca1f2de4661ED88A30C99A7a9449Aa84174\n",
      "Borrowed asset is:  0x8f3Cf7ad23Cd3CaDbD9735AFf958023239c6A063\n"
     ]
    }
   ],
   "source": [
    "assets = aave_client.get_protocol_data(\"getAllReservesTokens\")\n",
    "\n",
    "assets_symbols = ['DAI', 'USDC', 'USDT']\n",
    "\n",
    "filtered_assets = [asset for asset in assets if asset[0] in assets_symbols]\n",
    "\n",
    "df = pd.DataFrame(columns=['symbol', 'currentLiquidityRate', 'currentVariableBorrowRate', 'lastUpdateTimestamp'])\n",
    "\n",
    "# Iterate over the filtered assets and call the desired functions\n",
    "for symbol, asset_address in filtered_assets:\n",
    "    # Call getReserveData for each asset\n",
    "    reserve_data = aave_client.get_pool_data(lending_pool, \"getReserveData\", asset_address)\n",
    "    # Extract the required data\n",
    "    current_liquidity_rate = reserve_data['currentLiquidityRate'] * 100\n",
    "    current_variable_borrow_rate = reserve_data['currentVariableBorrowRate'] * 100\n",
    "    last_update_timestamp = pd.to_datetime(reserve_data['lastUpdateTimestamp'], unit='s')\n",
    "    \n",
    "    # Append the data to the DataFrame\n",
    "    df.loc[asset_address] = [symbol, current_liquidity_rate, current_variable_borrow_rate, last_update_timestamp]\n",
    "\n",
    "# Find the asset address with the maximum currentLiquidityRate\n",
    "deposit_asset = df['currentLiquidityRate'].idxmax()\n",
    "\n",
    "# Find the asset address with the smallest currentVariableBorrowRate\n",
    "borrow_asset = df['currentVariableBorrowRate'].idxmin()\n",
    "\n",
    "deposit_apy = df.loc[deposit_asset]['currentLiquidityRate']\n",
    "borrow_apy = df.loc[borrow_asset]['currentVariableBorrowRate']\n",
    "\n",
    "print(\"Supplied asset is: \", deposit_asset)\n",
    "print(\"Borrowed asset is: \", borrow_asset)"
   ]
  },
  {
   "cell_type": "markdown",
   "id": "7d9213bf",
   "metadata": {},
   "source": [
    "#  Find current wallet positions"
   ]
  },
  {
   "cell_type": "code",
   "execution_count": 6,
   "id": "cd783375",
   "metadata": {},
   "outputs": [],
   "source": [
    "def interpret_user_reserve_data(user_reserve_data):\n",
    "    # Extract the relevant value from the tuple\n",
    "    user_reserve_value = user_reserve_data[0]\n",
    "\n",
    "    # Convert the user_reserve_value to binary representation\n",
    "    binary_data = bin(user_reserve_value)[2:]\n",
    "\n",
    "    # Pad the binary data with leading zeros to ensure it has a length of 32 bits\n",
    "    binary_data = binary_data.zfill(32)\n",
    "\n",
    "    # Split the binary data into pairs of bits\n",
    "    bit_pairs = [binary_data[i:i+2] for i in range(0, len(binary_data), 2)]\n",
    "\n",
    "    # Initialize empty lists to store the indices of borrowed and collateral assets\n",
    "    borrowed_indices = []\n",
    "    collateral_indices = []\n",
    "\n",
    "    # Iterate over the bit pairs, starting from the right\n",
    "    for i in range(len(bit_pairs)-1, -1, -1):\n",
    "        pair = bit_pairs[i]\n",
    "        asset_index = len(bit_pairs) - i - 1\n",
    "\n",
    "        if pair == \"01\":\n",
    "            borrowed_indices.append(asset_index)\n",
    "        elif pair == \"11\":\n",
    "            collateral_indices.append(asset_index)\n",
    "            borrowed_indices.append(asset_index)\n",
    "        elif pair == \"10\":\n",
    "            collateral_indices.append(asset_index)\n",
    "\n",
    "    return borrowed_indices, collateral_indices\n",
    "\n",
    "def get_user_config():\n",
    "    return aave_client.get_pool_data(lending_pool, \"getUserConfiguration\", user_address)\n",
    "\n",
    "def get_reserves_list():\n",
    "    return aave_client.get_pool_data(lending_pool, \"getReservesList\")\n",
    "\n"
   ]
  },
  {
   "cell_type": "code",
   "execution_count": 7,
   "id": "9841a5f6",
   "metadata": {},
   "outputs": [
    {
     "name": "stdout",
     "output_type": "stream",
     "text": [
      "Supplied asset is:  0x2791Bca1f2de4661ED88A30C99A7a9449Aa84174\n",
      "Borrowed asset is:  0xc2132D05D31c914a87C6611C10748AEb04B58e8F\n"
     ]
    }
   ],
   "source": [
    "user_address = os.getenv('WALLET_ADDRESS')\n",
    "\n",
    "user_config = get_user_config()\n",
    "borrowed_indices, collateral_indices = interpret_user_reserve_data(user_config)\n",
    "reserves_assets_list = get_reserves_list()\n",
    "\n",
    "# verify that borrowed and collateral assets are unique\n",
    "if len(borrowed_indices) > 1:\n",
    "    print(\"More than 1 asset are being borrowed\")\n",
    "\n",
    "if len(collateral_indices) > 1:\n",
    "    print(\"More than 1 asset are being used as collateral\")\n",
    "\n",
    "\n",
    "print(\"Supplied asset is: \", reserves_assets_list[collateral_indices[0]])\n",
    "print(\"Borrowed asset is: \", reserves_assets_list[borrowed_indices[0]])"
   ]
  },
  {
   "cell_type": "markdown",
   "id": "432cbd03",
   "metadata": {},
   "source": [
    "#  Compare current with target positions"
   ]
  },
  {
   "cell_type": "code",
   "execution_count": null,
   "id": "fb0c3f67",
   "metadata": {},
   "outputs": [],
   "source": [
    "deposit_asset == reserves_assets_list[collateral_indices[0]]\n",
    "\n",
    "borrow_asset == reserves_assets_list[borrowed_indices[0]]"
   ]
  },
  {
   "cell_type": "markdown",
   "id": "0ed6de6a",
   "metadata": {},
   "source": [
    "#  Switch positions"
   ]
  },
  {
   "cell_type": "code",
   "execution_count": 3,
   "id": "3af06c5a",
   "metadata": {},
   "outputs": [],
   "source": [
    "\n",
    "#deposit_apy=0.0165\n",
    "#reward_apr=0.0546\n",
    "\n",
    "#borrow_stable_apy=None\n",
    "#borrow_variable_apy=0.0562\n",
    "\n",
    "# in year\n",
    "time_1=1\n",
    "\n",
    "# times to deosit and borrow\n",
    "loop_count=4\n",
    "\n",
    "# Token Price\n",
    "token_price=72\n",
    "\n",
    "ltv=ltv_list[0]"
   ]
  },
  {
   "cell_type": "code",
   "execution_count": 4,
   "id": "33dc8728",
   "metadata": {},
   "outputs": [],
   "source": [
    "class aave_recursive_borrowing_strategy:\n",
    "    def __init__(self, DepositAmount:float, TokenPrice:float, LTV:float, DepostiAPY:float, \\\n",
    "                 RewardAPY:float, Time:float, BorrowAPY:float):\n",
    "        self.DepositAmount=DepositAmount\n",
    "        self.TokenPrice=TokenPrice\n",
    "        self.LTV=LTV\n",
    "        self.DepostiAPY=DepostiAPY\n",
    "        self.RewardAPY=RewardAPY\n",
    "        self.Time=Time\n",
    "        self.BorrowAPY=BorrowAPY\n",
    "    \n",
    "    def value(self):\n",
    "        self.DepositValue = self.DepositAmount * self.TokenPrice\n",
    "        self.BorrowValue = self.DepositValue * self.LTV\n",
    "        self.BorrowAmount = self.BorrowValue / self.TokenPrice\n",
    "        \n",
    "        return self.DepositValue, self.BorrowValue, self.BorrowAmount\n",
    "    \n",
    "    def income(self):\n",
    "        self.DepositIncome = self.DepositAmount * self.TokenPrice * self.DepostiAPY * self.Time\n",
    "        self.RewardIncome = self.DepositAmount * self.TokenPrice * self.RewardAPY * self.Time\n",
    "        self.TotalIncome = self.DepositIncome + self.RewardIncome\n",
    "        \n",
    "        return self.DepositIncome, self.RewardIncome, self.TotalIncome\n",
    "    \n",
    "    # Interest Rate\n",
    "    def cost(self):\n",
    "        self.BorrowCost = self.BorrowAmount * self.TokenPrice * self.BorrowAPY * self.Time\n",
    "        \n",
    "        return self.BorrowCost\n",
    "    \n",
    "    def net_income(self):\n",
    "        self.NetIncome = self.TotalIncome - self.BorrowCost\n",
    "        self.Net_Income_Token_Amount = self.NetIncome/self.TokenPrice\n",
    "        \n",
    "        return self.NetIncome, self.Net_Income_Token_Amount\n",
    "    \n",
    "    def apy(self):\n",
    "        self.Dep_Borr_APY=self.NetIncome/self.DepositValue/self.Time\n",
    "        \n",
    "        return self.Dep_Borr_APY\n",
    "    \n"
   ]
  },
  {
   "cell_type": "code",
   "execution_count": 5,
   "id": "b1b715f2",
   "metadata": {},
   "outputs": [],
   "source": [
    "# Initializing\n",
    "borrow_amt=initial_token_amt\n",
    "sum_net_income_token_amt=0\n",
    "sum_borrow_amt=0\n",
    "\n",
    "col_header_list=['Deposit Amount', 'Borrow Amount', 'Net Income (/Token)', 'APY']\n",
    "dep_borr_record_pd = pd.DataFrame(None, index=list(range(1,loop_count+1)), columns=col_header_list)\n"
   ]
  },
  {
   "cell_type": "code",
   "execution_count": 6,
   "id": "bc4a81ec",
   "metadata": {},
   "outputs": [
    {
     "name": "stdout",
     "output_type": "stream",
     "text": [
      "\n",
      "Total Borrow Amount = 93.75\n",
      "Total Net Income (/Token) = 8.062500000000002\n",
      "Collateral Ratio = 0.9375\n",
      "APY after Loop =  0.08062500000000002\n",
      "\n",
      "Result for Each Time\n",
      "  Deposit Amount Borrow Amount Net Income (/Token)    APY\n",
      "1            100          50.0                 4.3  0.043\n",
      "2           50.0          25.0                2.15  0.043\n",
      "3           25.0          12.5               1.075  0.043\n",
      "4           12.5          6.25              0.5375  0.043\n"
     ]
    }
   ],
   "source": [
    "\n",
    "for i in range(loop_count):\n",
    "    deposit_amt=borrow_amt\n",
    "    strategy=aave_recursive_borrowing_strategy(DepositAmount=deposit_amt, TokenPrice=token_price, LTV =ltv, DepostiAPY=deposit_apy, \\\n",
    "                     RewardAPY=reward_apr, Time=time_1, BorrowAPY=borrow_variable_apy)\n",
    "\n",
    "    value=strategy.value()\n",
    "    income=strategy.income()\n",
    "    cost=strategy.cost()\n",
    "    net_income=strategy.net_income()\n",
    "    apy=strategy.apy()\n",
    "    \n",
    "    # TODO: change borrow_amt to AAVE client txn receipt output\n",
    "    borrow_amt=value[2]\n",
    "    net_income_in_token=net_income[1]\n",
    "\n",
    "    sum_borrow_amt=sum_borrow_amt+borrow_amt\n",
    "    sum_net_income_token_amt=sum_net_income_token_amt+net_income[1]\n",
    "    \n",
    "    # Result for each time, write to DataFrame\n",
    "    data_list=[deposit_amt, borrow_amt, net_income_in_token, apy]\n",
    "    dep_borr_record_pd.iloc[i]=data_list\n",
    "\n",
    "collateral_ratio=sum_borrow_amt/initial_token_amt\n",
    "apy_after_loop=sum_net_income_token_amt/initial_token_amt/time_1\n",
    "print()\n",
    "print('Total Borrow Amount =',sum_borrow_amt)\n",
    "print('Total Net Income (/Token) =',sum_net_income_token_amt)\n",
    "\n",
    "print('Collateral Ratio =', collateral_ratio)\n",
    "print('APY after Loop = ',apy_after_loop)\n",
    "\n",
    "print()\n",
    "print('Result for Each Time')\n",
    "print(dep_borr_record_pd)"
   ]
  }
 ],
 "metadata": {
  "kernelspec": {
   "display_name": "Python 3 (ipykernel)",
   "language": "python",
   "name": "python3"
  },
  "language_info": {
   "codemirror_mode": {
    "name": "ipython",
    "version": 3
   },
   "file_extension": ".py",
   "mimetype": "text/x-python",
   "name": "python",
   "nbconvert_exporter": "python",
   "pygments_lexer": "ipython3",
   "version": "3.9.6"
  }
 },
 "nbformat": 4,
 "nbformat_minor": 5
}
