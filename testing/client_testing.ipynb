{
 "cells": [
  {
   "cell_type": "code",
   "execution_count": 28,
   "metadata": {},
   "outputs": [],
   "source": [
    "import os  # For fetching environment variables\n",
    "import sys\n",
    "\n",
    "# Add the parent directory to the sys.path\n",
    "module_path = os.path.abspath(os.path.join('..'))\n",
    "if module_path not in sys.path:\n",
    "    sys.path.append(module_path)"
   ]
  },
  {
   "cell_type": "code",
   "execution_count": 29,
   "metadata": {},
   "outputs": [],
   "source": [
    "import pandas as pd\n",
    "import math\n",
    "import datetime\n",
    "import time\n",
    "from eth_utils import to_bytes, to_int\n",
    "import requests\n",
    "\n",
    "from pprint import pprint\n",
    "from aave_client import AaveClient"
   ]
  },
  {
   "cell_type": "code",
   "execution_count": 30,
   "metadata": {},
   "outputs": [],
   "source": [
    "# Setup client\n",
    "\n",
    "RPC = \"ARBITRUM\"\n",
    "\n",
    "if RPC == \"POLYGON\":\n",
    "    RPC_URL = os.getenv(\"POLYGON_RPC_URL\")\n",
    "elif RPC == \"ETHEREUM\":\n",
    "    RPC_URL = os.getenv(\"MAINNET_RPC_URL\")\n",
    "elif RPC == \"ARBITRUM\":\n",
    "    RPC_URL = os.getenv(\"ARBITRUM_RPC_URL\")\n",
    "elif RPC == \"KOVAN\":\n",
    "    RPC_URL = os.getenv(\"KOVAN_RPC_URL\")\n",
    "elif RPC == \"MUMBAI\":\n",
    "    RPC_URL = os.getenv(\"MUMBAI_RPC_URL\")\n",
    "else:\n",
    "    RPC_URL = None  # or handle the case when the RPC does not match any known value\n",
    "\n",
    "# Define a dictionary to map RPC to the appropriate keyword argument\n",
    "rpc_url_args = {\n",
    "    \"POLYGON\": \"POLYGON_RPC_URL\",\n",
    "    \"ETHEREUM\": \"MAINNET_RPC_URL\",\n",
    "    \"ARBITRUM\": \"ARBITRUM_RPC_URL\",\n",
    "    \"KOVAN\": \"KOVAN_RPC_URL\",\n",
    "    \"MUMBAI\": \"MUMBAI_RPC_URL\"\n",
    "}\n",
    "\n",
    "# Determine the correct argument to pass based on the RPC value\n",
    "rpc_arg = {rpc_url_args[RPC]: RPC_URL}"
   ]
  },
  {
   "cell_type": "code",
   "execution_count": 31,
   "metadata": {},
   "outputs": [
    {
     "name": "stdout",
     "output_type": "stream",
     "text": [
      "0x794a61358D6845594F94dc1DB02A252b5b4814aD\n"
     ]
    }
   ],
   "source": [
    "# Initialize Client:\n",
    "aave_client = AaveClient(WALLET_ADDRESS=os.getenv('WALLET_ADDRESS'),\n",
    "                                PRIVATE_WALLET_KEY=os.getenv('PRIVATE_WALLET_KEY'),\n",
    "                                GAS_STRATEGY=\"medium\",\n",
    "                                **rpc_arg)\n",
    "\n",
    "# Get the lending pool smart contract:\n",
    "lending_pool = aave_client.get_lending_pool()\n",
    "print(lending_pool.address)"
   ]
  },
  {
   "cell_type": "code",
   "execution_count": 32,
   "metadata": {},
   "outputs": [
    {
     "data": {
      "text/plain": [
       "(9294382255.0, 36698.0, 9993998874.0)"
      ]
     },
     "execution_count": 32,
     "metadata": {},
     "output_type": "execute_result"
    }
   ],
   "source": [
    "\"\"\" ------------------------------------------- Testing Cases ------------------------------------------------ \"\"\"\n",
    "\n",
    "available_borrow_base, total_debt_base, total_collateral_base = aave_client.get_user_data(lending_pool)\n",
    "available_borrow_base, total_debt_base, total_collateral_base"
   ]
  },
  {
   "cell_type": "code",
   "execution_count": 33,
   "metadata": {},
   "outputs": [
    {
     "name": "stdout",
     "output_type": "stream",
     "text": [
      "[('DAI', '0xDA10009cBd5D07dd0CeCc66161FC93D7c9000da1'), ('LINK', '0xf97f4df75117a78c1A5a0DBb814Af92458539FB4'), ('USDC', '0xFF970A61A04b1cA14834A43f5dE4533eBDDB5CC8'), ('WBTC', '0x2f2a2543B76A4166549F7aaB2e75Bef0aefC5B0f'), ('WETH', '0x82aF49447D8a07e3bd95BD0d56f35241523fBab1'), ('USDT', '0xFd086bC7CD5C481DCC9C85ebE478A1C0b69FCbb9'), ('AAVE', '0xba5DdD1f9d7F570dc94a51479a000E3BCE967196'), ('EURS', '0xD22a58f79e9481D1a88e00c343885A588b34b68B'), ('wstETH', '0x5979D7b546E38E414F7E9822514be443A4800529'), ('MAI', '0x3F56e0c36d275367b8C502090EDF38289b3dEa0d'), ('rETH', '0xEC70Dcb4A1EFa46b8F2D97C310C9c4790ba5ffA8'), ('LUSD', '0x93b346b6BC2548dA6A1E7d98E9a421B42541425b'), ('USDC', '0xaf88d065e77c8cC2239327C5EDb3A432268e5831'), ('FRAX', '0x17FC002b466eEc40DaE837Fc4bE5c67993ddBd6F'), ('ARB', '0x912CE59144191C1204E64559FE8253a0e49E6548'), ('weETH', '0x35751007a407ca6FEFfE80b3cB397736D2cf4dbe')]\n",
      "[0, 0, 0, 0, 0, 0, 89771062298796887382783295, 0, False]\n"
     ]
    }
   ],
   "source": [
    "''' ----------------- Call protocol functions ----------------- '''\n",
    "function_name = \"getAllReservesTokens\"\n",
    "asset_address = '0xFd086bC7CD5C481DCC9C85ebE478A1C0b69FCbb9'\n",
    "user_address = os.getenv('WALLET_ADDRESS')\n",
    "\n",
    "# Example usage for getAllReservesTokens which requires no parameters\n",
    "assets = aave_client.get_protocol_data(\"getAllReservesTokens\")\n",
    "print(assets)\n",
    "\n",
    "# Example usage for getReserveConfigurationData which requires an asset address parameter\n",
    "#result = aave_client.get_protocol_data(\"getReserveConfigurationData\", asset_address)\n",
    "#print(result)\n",
    "\n",
    "# Example usage for getUserReserveData which requires asset and user address parameters\n",
    "user_reserves = aave_client.get_protocol_data(\"getUserReserveData\", asset_address, user_address)\n",
    "print(user_reserves)"
   ]
  },
  {
   "cell_type": "code",
   "execution_count": 82,
   "metadata": {},
   "outputs": [
    {
     "data": {
      "text/html": [
       "<div>\n",
       "<style scoped>\n",
       "    .dataframe tbody tr th:only-of-type {\n",
       "        vertical-align: middle;\n",
       "    }\n",
       "\n",
       "    .dataframe tbody tr th {\n",
       "        vertical-align: top;\n",
       "    }\n",
       "\n",
       "    .dataframe thead th {\n",
       "        text-align: right;\n",
       "    }\n",
       "</style>\n",
       "<table border=\"1\" class=\"dataframe\">\n",
       "  <thead>\n",
       "    <tr style=\"text-align: right;\">\n",
       "      <th></th>\n",
       "      <th>symbol</th>\n",
       "      <th>currentLiquidityRate</th>\n",
       "      <th>currentVariableBorrowRate</th>\n",
       "      <th>lastUpdateTimestamp</th>\n",
       "    </tr>\n",
       "  </thead>\n",
       "  <tbody>\n",
       "    <tr>\n",
       "      <th>0xDA10009cBd5D07dd0CeCc66161FC93D7c9000da1</th>\n",
       "      <td>DAI</td>\n",
       "      <td>5.999307</td>\n",
       "      <td>8.989400</td>\n",
       "      <td>2024-06-07 12:57:24</td>\n",
       "    </tr>\n",
       "    <tr>\n",
       "      <th>0xFF970A61A04b1cA14834A43f5dE4533eBDDB5CC8</th>\n",
       "      <td>USDC</td>\n",
       "      <td>8.984222</td>\n",
       "      <td>18.668010</td>\n",
       "      <td>2024-06-07 12:59:57</td>\n",
       "    </tr>\n",
       "    <tr>\n",
       "      <th>0xFd086bC7CD5C481DCC9C85ebE478A1C0b69FCbb9</th>\n",
       "      <td>USDT</td>\n",
       "      <td>8.120774</td>\n",
       "      <td>10.182079</td>\n",
       "      <td>2024-06-07 13:01:54</td>\n",
       "    </tr>\n",
       "    <tr>\n",
       "      <th>0xaf88d065e77c8cC2239327C5EDb3A432268e5831</th>\n",
       "      <td>USDC</td>\n",
       "      <td>7.598384</td>\n",
       "      <td>9.374224</td>\n",
       "      <td>2024-06-07 13:01:44</td>\n",
       "    </tr>\n",
       "  </tbody>\n",
       "</table>\n",
       "</div>"
      ],
      "text/plain": [
       "                                           symbol  currentLiquidityRate  \\\n",
       "0xDA10009cBd5D07dd0CeCc66161FC93D7c9000da1    DAI              5.999307   \n",
       "0xFF970A61A04b1cA14834A43f5dE4533eBDDB5CC8   USDC              8.984222   \n",
       "0xFd086bC7CD5C481DCC9C85ebE478A1C0b69FCbb9   USDT              8.120774   \n",
       "0xaf88d065e77c8cC2239327C5EDb3A432268e5831   USDC              7.598384   \n",
       "\n",
       "                                            currentVariableBorrowRate  \\\n",
       "0xDA10009cBd5D07dd0CeCc66161FC93D7c9000da1                   8.989400   \n",
       "0xFF970A61A04b1cA14834A43f5dE4533eBDDB5CC8                  18.668010   \n",
       "0xFd086bC7CD5C481DCC9C85ebE478A1C0b69FCbb9                  10.182079   \n",
       "0xaf88d065e77c8cC2239327C5EDb3A432268e5831                   9.374224   \n",
       "\n",
       "                                           lastUpdateTimestamp  \n",
       "0xDA10009cBd5D07dd0CeCc66161FC93D7c9000da1 2024-06-07 12:57:24  \n",
       "0xFF970A61A04b1cA14834A43f5dE4533eBDDB5CC8 2024-06-07 12:59:57  \n",
       "0xFd086bC7CD5C481DCC9C85ebE478A1C0b69FCbb9 2024-06-07 13:01:54  \n",
       "0xaf88d065e77c8cC2239327C5EDb3A432268e5831 2024-06-07 13:01:44  "
      ]
     },
     "execution_count": 82,
     "metadata": {},
     "output_type": "execute_result"
    }
   ],
   "source": [
    "''' ----------------- Call pool functions ----------------- '''\n",
    "#assets = [('DAI', '0x8f3Cf7ad23Cd3CaDbD9735AFf958023239c6A063'), ('LINK', '0x53E0bca35eC356BD5ddDFebbD1Fc0fD03FaBad39'), ('USDC', '0x2791Bca1f2de4661ED88A30C99A7a9449Aa84174'), ('WBTC', '0x1BFD67037B42Cf73acF2047067bd4F2C47D9BfD6'), ('WETH', '0x7ceB23fD6bC0adD59E62ac25578270cFf1b9f619'), ('USDT', '0xc2132D05D31c914a87C6611C10748AEb04B58e8F'), ('AAVE', '0xD6DF932A45C0f255f85145f286eA0b292B21C90B'), ('WMATIC', '0x0d500B1d8E8eF31E21C99d1Db9A6444d3ADf1270'), ('CRV', '0x172370d5Cd63279eFa6d502DAB29171933a610AF'), ('SUSHI', '0x0b3F868E0BE5597D5DB7fEB59E1CADBb0fdDa50a'), ('GHST', '0x385Eeac5cB85A38A9a07A70c73e0a3271CfB54A7'), ('BAL', '0x9a71012B13CA4d3D0Cdc72A177DF3ef03b0E76A3'), ('DPI', '0x85955046DF4668e1DD369D2DE9f3AEB98DD2A369'), ('EURS', '0xE111178A87A3BFf0c8d18DECBa5798827539Ae99'), ('jEUR', '0x4e3Decbb3645551B8A19f0eA1678079FCB33fB4c'), ('EURA', '0xE0B52e49357Fd4DAf2c15e02058DCE6BC0057db4'), ('miMATIC', '0xa3Fa99A148fA48D14Ed51d610c367C61876997F1'), ('stMATIC', '0x3A58a54C066FdC0f2D55FC9C89F0415C92eBf3C4'), ('MaticX', '0xfa68FB4628DFF1028CFEc22b4162FCcd0d45efb6'), ('wstETH', '0x03b54A6e9a984069379fae1a4fC4dBAE93B3bCCD'), ('USDC', '0x3c499c542cEF5E3811e1192ce70d8cC03d5c3359')]\n",
    "assets_symbols = ['DAI', 'USDC', 'USDT']\n",
    "user_address = os.getenv('WALLET_ADDRESS')\n",
    "\n",
    "filtered_assets = [asset for asset in assets if asset[0] in assets_symbols]\n",
    "\n",
    "df = pd.DataFrame(columns=['symbol', 'currentLiquidityRate', 'currentVariableBorrowRate', 'lastUpdateTimestamp'])\n",
    "\n",
    "# Iterate over the filtered assets and call the desired functions\n",
    "for symbol, asset_address in filtered_assets:\n",
    "    # Call getReserveData for each asset\n",
    "    reserve_data = aave_client.get_pool_data(lending_pool, \"getReserveData\", asset_address)\n",
    "    # Extract the required data\n",
    "    current_liquidity_rate = reserve_data['currentLiquidityRate'] * 100\n",
    "    current_variable_borrow_rate = reserve_data['currentVariableBorrowRate'] * 100\n",
    "    last_update_timestamp = pd.to_datetime(reserve_data['lastUpdateTimestamp'], unit='s')\n",
    "    \n",
    "    # Append the data to the DataFrame\n",
    "    df.loc[asset_address] = [symbol, current_liquidity_rate, current_variable_borrow_rate, last_update_timestamp]\n",
    "\n",
    "df"
   ]
  },
  {
   "cell_type": "code",
   "execution_count": 83,
   "metadata": {},
   "outputs": [
    {
     "data": {
      "text/plain": [
       "-0.005178711957343651"
      ]
     },
     "execution_count": 83,
     "metadata": {},
     "output_type": "execute_result"
    }
   ],
   "source": [
    "''' ----------------- Spread between largest supply rate and smallest borrow rate ----------------- '''\n",
    "spread = df['currentLiquidityRate'].max() - df['currentVariableBorrowRate'].min()\n",
    "spread"
   ]
  },
  {
   "cell_type": "code",
   "execution_count": 69,
   "metadata": {},
   "outputs": [],
   "source": [
    "buy_asset = df['currentLiquidityRate'].idxmax()\n",
    "sell_asset = df['currentVariableBorrowRate'].idxmin()"
   ]
  },
  {
   "cell_type": "code",
   "execution_count": 57,
   "metadata": {},
   "outputs": [
    {
     "name": "stdout",
     "output_type": "stream",
     "text": [
      "number_of_loops:  1\n",
      "total_collateral 190.0 leverage 1.9\n"
     ]
    }
   ],
   "source": [
    "'''\n",
    "Maximum leverage with x LTV if we borrow until the borrowing amount becomes less than 10% of the initial capital\n",
    "\n",
    "Bn < 0.1 * C0\n",
    "0.9^n < 0.1\n",
    "n>21.85\n",
    "hence 22 loops\n",
    "'''\n",
    "LTV = 0.9\n",
    "initial_collateral = 100 # e.g. $100\n",
    "stop_condition = 0.9 # >x% of inital_collateral available at the start of the loop\n",
    "\n",
    "number_of_loops = math.ceil(math.log(stop_condition) / math.log(LTV))\n",
    "print(\"number_of_loops: \", number_of_loops)\n",
    "\n",
    "#total_collateral = 1000 * (1 / (1-0.9))\n",
    "total_collateral = initial_collateral * ((1 - LTV**(number_of_loops + 1)) / (1 - LTV))\n",
    "\n",
    "leverage = total_collateral / initial_collateral\n",
    "\n",
    "print(\"total_collateral\", total_collateral, \"leverage\", leverage)"
   ]
  },
  {
   "cell_type": "code",
   "execution_count": 58,
   "metadata": {},
   "outputs": [
    {
     "data": {
      "text/plain": [
       "15.437587688825767"
      ]
     },
     "execution_count": 58,
     "metadata": {},
     "output_type": "execute_result"
    }
   ],
   "source": [
    "''' ------------------------ Final APY ------------------'''\n",
    "apy = ( df['currentLiquidityRate'].max() * initial_collateral + (total_collateral - initial_collateral) * max(spread,0) ) / initial_collateral\n",
    "apy"
   ]
  },
  {
   "cell_type": "code",
   "execution_count": 59,
   "metadata": {},
   "outputs": [
    {
     "name": "stdout",
     "output_type": "stream",
     "text": [
      "{'totalCollateralBase': 99.94043605, 'totalDebtBase': 0.00036698, 'availableBorrowsBase': 92.94423855, 'currentLiquidationThreshold': 9500, 'ltv': 9300, 'healthFactor': 258715500163496648318709}\n"
     ]
    }
   ],
   "source": [
    "# user account data across the pools \n",
    "user_account_data = aave_client.get_pool_data(lending_pool, \"getUserAccountData\", user_address)\n",
    "print(user_account_data)\n",
    "total_supply = user_account_data['totalCollateralBase']\n",
    "total_borrow = user_account_data['totalDebtBase']"
   ]
  },
  {
   "cell_type": "code",
   "execution_count": 60,
   "metadata": {},
   "outputs": [
    {
     "name": "stdout",
     "output_type": "stream",
     "text": [
      "User reserve data: (18,)\n"
     ]
    }
   ],
   "source": [
    "# Call getUserReserveData \n",
    "user_reserve_data = aave_client.get_pool_data(lending_pool, \"getUserConfiguration\", user_address)\n",
    "print(f\"User reserve data: {user_reserve_data}\")"
   ]
  },
  {
   "cell_type": "code",
   "execution_count": 61,
   "metadata": {},
   "outputs": [],
   "source": [
    "reserves_assets_list = aave_client.get_pool_data(lending_pool, \"getReservesList\")\n"
   ]
  },
  {
   "cell_type": "code",
   "execution_count": 62,
   "metadata": {},
   "outputs": [],
   "source": [
    "# Call getUserReserveData\n",
    "user_reserve_data = aave_client.get_pool_data(lending_pool, \"getUserConfiguration\", user_address)\n",
    "\n",
    "def interpret_user_reserve_data(user_reserve_data):\n",
    "    # Extract the relevant value from the tuple\n",
    "    user_reserve_value = user_reserve_data[0]\n",
    "\n",
    "    # Convert the user_reserve_value to binary representation\n",
    "    binary_data = bin(user_reserve_value)[2:]\n",
    "\n",
    "    # Pad the binary data with leading zeros to ensure it has a length of 32 bits\n",
    "    binary_data = binary_data.zfill(32)\n",
    "\n",
    "    # Split the binary data into pairs of bits\n",
    "    bit_pairs = [binary_data[i:i+2] for i in range(0, len(binary_data), 2)]\n",
    "\n",
    "    # Initialize empty lists to store the indices of borrowed and collateral assets\n",
    "    borrowed_indices = []\n",
    "    collateral_indices = []\n",
    "\n",
    "    # Iterate over the bit pairs, starting from the right\n",
    "    for i in range(len(bit_pairs)-1, -1, -1):\n",
    "        pair = bit_pairs[i]\n",
    "        asset_index = len(bit_pairs) - i - 1\n",
    "\n",
    "        if pair == \"01\":\n",
    "            borrowed_indices.append(asset_index)\n",
    "        elif pair == \"11\":\n",
    "            collateral_indices.append(asset_index)\n",
    "            borrowed_indices.append(asset_index)\n",
    "        elif pair == \"10\":\n",
    "            collateral_indices.append(asset_index)\n",
    "\n",
    "    return borrowed_indices, collateral_indices\n",
    "\n",
    "borrowed_indices, collateral_indices = interpret_user_reserve_data(user_reserve_data)"
   ]
  },
  {
   "cell_type": "code",
   "execution_count": 63,
   "metadata": {},
   "outputs": [
    {
     "name": "stdout",
     "output_type": "stream",
     "text": [
      "Supplied asset is:  0xDA10009cBd5D07dd0CeCc66161FC93D7c9000da1\n",
      "Borrowed asset is:  0xFF970A61A04b1cA14834A43f5dE4533eBDDB5CC8\n"
     ]
    }
   ],
   "source": [
    "# verify that borrowed and collateral assets are unique\n",
    "if len(borrowed_indices) > 1:\n",
    "    print(\"More than 1 asset are being borrowed\")\n",
    "\n",
    "if len(collateral_indices) > 1:\n",
    "    print(\"More than 1 asset are being used as collateral\")\n",
    "\n",
    "print(\"Supplied asset is: \", reserves_assets_list[collateral_indices[0]])\n",
    "print(\"Borrowed asset is: \", reserves_assets_list[borrowed_indices[0]])"
   ]
  },
  {
   "cell_type": "code",
   "execution_count": 74,
   "metadata": {},
   "outputs": [
    {
     "name": "stdout",
     "output_type": "stream",
     "text": [
      "Supplied asset address is 0xDA10009cBd5D07dd0CeCc66161FC93D7c9000da1 for a total of 98992154404740381046\n",
      "Borrowed asset address is 0xFF970A61A04b1cA14834A43f5dE4533eBDDB5CC8 for a total of 0\n"
     ]
    }
   ],
   "source": [
    "supply_asset = reserves_assets_list[collateral_indices[0]]\n",
    "supply_reserve_asset = next((token for token in aave_client.active_network.aave_tokens if token.address == supply_asset), None)\n",
    "supply_reserves = aave_client.get_protocol_data(\"getUserReserveData\", supply_asset, user_address)\n",
    "\n",
    "borrow_asset = reserves_assets_list[borrowed_indices[0]]\n",
    "borrow_reserve_asset = next((token for token in aave_client.active_network.aave_tokens if token.address == borrow_asset), None)\n",
    "borrow_reserves = aave_client.get_protocol_data(\"getUserReserveData\", borrow_asset, user_address)\n",
    "\n",
    "\n",
    "print(\"Supplied asset address is\", supply_asset, \"for a total of\", supply_reserves[0])\n",
    "print(\"Borrowed asset address is\", borrow_asset, \"for a total of\", borrow_reserves[2])"
   ]
  },
  {
   "cell_type": "code",
   "execution_count": 70,
   "metadata": {},
   "outputs": [
    {
     "name": "stdout",
     "output_type": "stream",
     "text": [
      "Required txs are: withdraw, repay, withdraw, swap, deposit, borrow, deposit\n"
     ]
    }
   ],
   "source": [
    "# Match buy and sell assets vs supplied and borrowed assets\n",
    "\n",
    "if borrow_asset == sell_asset:\n",
    "    if supply_asset == buy_asset:\n",
    "        print(\"No change\")\n",
    "    else:\n",
    "        print(\"Required txs are: withdraw, repay, withdraw, swap, deposit, borrow, deposit\")\n",
    "else:\n",
    "    if supply_asset == buy_asset:\n",
    "        print(\"Required txs are: withdraw, repay, borrow, deposit\")\n",
    "    else:\n",
    "        print(\"Required txs are: withdraw, repay, withdraw, swap, deposit, borrow, deposit\")"
   ]
  },
  {
   "cell_type": "code",
   "execution_count": 65,
   "metadata": {},
   "outputs": [
    {
     "name": "stdout",
     "output_type": "stream",
     "text": [
      "Wallet has 0.0 balance of the borrowed assets, while the debt is 0.000367\n",
      "The debt can't be repaid with wallet proceeds only, need to sell collateral\n"
     ]
    }
   ],
   "source": [
    "borrow_asset_wallet_balance = aave_client.get_wallet_balance_data(\"balanceOf\", user_address, borrow_asset)\n",
    "\n",
    "print(\"Wallet has\", aave_client.convert_from_decimal_units(borrow_reserve_asset, borrow_asset_wallet_balance), \"balance of the borrowed assets, while the debt is\", aave_client.convert_from_decimal_units(borrow_reserve_asset, borrow_reserves[2]))\n",
    "\n",
    "diff_borrow = borrow_asset_wallet_balance - borrow_reserves[2]\n",
    "if diff_borrow < 0:\n",
    "    print(\"The debt can't be repaid with wallet proceeds only, need to sell collateral\")\n",
    "else:\n",
    "    print(\"The debt can be repaid using wallet balance\")"
   ]
  },
  {
   "cell_type": "code",
   "execution_count": 77,
   "metadata": {},
   "outputs": [
    {
     "name": "stdout",
     "output_type": "stream",
     "text": [
      "Wallet has 98937217 balance of the asset to be supplied\n"
     ]
    }
   ],
   "source": [
    "buy_asset_balance = aave_client.get_wallet_balance_data(\"balanceOf\", user_address, buy_asset)\n",
    "\n",
    "print(\"Wallet has\", buy_asset_balance, \"balance of the asset to be supplied\")"
   ]
  },
  {
   "cell_type": "code",
   "execution_count": 81,
   "metadata": {},
   "outputs": [
    {
     "name": "stdout",
     "output_type": "stream",
     "text": [
      "Approving transaction to deposit 98.937217 of USDC to Aave...\n",
      "Approved 98937217 of 0xaf88d065e77c8cC2239327C5EDb3A432268e5831 for contract 0x794a61358D6845594F94dc1DB02A252b5b4814aD\n",
      "Transaction approved!\n",
      "Depositing 98.937217 of USDC to Aave...\n",
      "Awaiting transaction receipt for transaction hash: 0xd20f0fd93d925a09beec618ad6f0643f9553d80621a7810b984ed69a49ef0746 (timeout = 300 seconds)\n",
      "Successfully deposited 98.937217 of USDC\n",
      "Transaction Hash: AaveTrade(hash='0xd20f0fd93d925a09beec618ad6f0643f9553d80621a7810b984ed69a49ef0746', timestamp=1717758087, datetime='2024-06-07 13:01:27', contract_address=None, from_address='0x64b27E5b4cB9f4D6743Ea074de813f1401e36a5f', to_address='0x794a61358D6845594F94dc1DB02A252b5b4814aD', gas_price=Decimal('0.000005261082908'), asset_symbol='USDC', asset_address='0xaf88d065e77c8cC2239327C5EDb3A432268e5831', asset_amount=98.937217, asset_amount_decimal_units=98937217, interest_rate_mode=None, operation='Deposit')\n"
     ]
    }
   ],
   "source": [
    "\"\"\"Deposit tokens\"\"\"\n",
    "deposit_token = buy_asset\n",
    "reserve_token = next((token for token in aave_client.active_network.aave_tokens if token.address == deposit_token), None)\n",
    "deposit_amount = aave_client.convert_from_decimal_units(reserve_token, buy_asset_balance)\n",
    "\n",
    "deposit_hash = aave_client.deposit(deposit_token=reserve_token, deposit_amount=deposit_amount)\n",
    "print(\"Transaction Hash:\", deposit_hash)"
   ]
  },
  {
   "cell_type": "code",
   "execution_count": 75,
   "metadata": {},
   "outputs": [
    {
     "name": "stdout",
     "output_type": "stream",
     "text": [
      "Approving transaction to withdraw 98.992154404740375639 of DAI from Aave...\n",
      "Approved 98992154404740382720 of 0xDA10009cBd5D07dd0CeCc66161FC93D7c9000da1 for contract 0x794a61358D6845594F94dc1DB02A252b5b4814aD\n",
      "Withdrawing 98.99215440474038 of DAI from Aave...\n",
      "Awaiting transaction receipt for transaction hash: 0xc10128895f26b61b97d4ce8f69203885dcf9890e46f8074d14a30b559346185d (timeout = 300 seconds)\n",
      "Successfully withdrew 98.992154404740375639 of DAI from Aave\n",
      "Transaction Hash: AaveTrade(hash='0xc10128895f26b61b97d4ce8f69203885dcf9890e46f8074d14a30b559346185d', timestamp=1717757603, datetime='2024-06-07 12:53:23', contract_address=None, from_address='0x64b27E5b4cB9f4D6743Ea074de813f1401e36a5f', to_address='0x794a61358D6845594F94dc1DB02A252b5b4814aD', gas_price=Decimal('0.000007995977743'), asset_symbol='DAI', asset_address='0xDA10009cBd5D07dd0CeCc66161FC93D7c9000da1', asset_amount=98.99215440474038, asset_amount_decimal_units=98992154404740382720, interest_rate_mode=None, operation='Withdraw')\n"
     ]
    }
   ],
   "source": [
    "\"\"\"withdraw tokens\"\"\"\n",
    "#withdraw_token = supply_asset\n",
    "#reserve_token = next((token for token in aave_client.active_network.aave_tokens if token.address == withdraw_token), None)\n",
    "#withdraw_transaction_receipt = aave_client.withdraw(withdraw_token=supply_reserve_asset, withdraw_amount=total_supply)\n",
    "\n",
    "withdraw_amount = aave_client.convert_from_decimal_units(supply_reserve_asset, supply_reserves[0]) # with 1% margin for rounding effects\n",
    "withdraw_transaction_receipt = aave_client.withdraw(withdraw_token=supply_reserve_asset, withdraw_amount=withdraw_amount)\n",
    "print(\"Transaction Hash:\", withdraw_transaction_receipt)\n"
   ]
  },
  {
   "cell_type": "code",
   "execution_count": 76,
   "metadata": {},
   "outputs": [
    {
     "name": "stdout",
     "output_type": "stream",
     "text": [
      "Approved 98992154404740382720 of 0xDA10009cBd5D07dd0CeCc66161FC93D7c9000da1 for contract 0x216B4B4Ba9F3e719726886d34a177484278Bfcae\n",
      "Awaiting transaction receipt for transaction hash: 0xfd26e65cac98280e04aaaeec9b8dcd3bf8c74bef95282282eb9b482b185bb876 (timeout = 300 seconds)\n",
      "Swap and deposit transaction completed. Receipt: AaveTrade(hash='0xfd26e65cac98280e04aaaeec9b8dcd3bf8c74bef95282282eb9b482b185bb876', timestamp=1717757670, datetime='2024-06-07 12:54:30', contract_address=None, from_address='0x64b27E5b4cB9f4D6743Ea074de813f1401e36a5f', to_address='0xDEF171Fe48CF0115B1d80b88dc8eAB59176FEe57', gas_price=Decimal('0.000007414999766'), asset_symbol='DAI', asset_address='0xDA10009cBd5D07dd0CeCc66161FC93D7c9000da1', asset_amount=98.99215440474038, asset_amount_decimal_units=98992154404740382720, interest_rate_mode=None, operation='Swap')\n"
     ]
    }
   ],
   "source": [
    "\"\"\"swap tokens\"\"\"\n",
    "# Fetch the reserve tokens\n",
    "aave_client.active_network.aave_tokens = aave_client.active_network.fetch_aave_tokens()\n",
    "\n",
    "# Identify the swap from and swap to tokens\n",
    "swap_from_token = next((token for token in aave_client.active_network.aave_tokens if token.address == supply_asset), None)\n",
    "swap_to_token = next((token for token in aave_client.active_network.aave_tokens if token.address == buy_asset), None)\n",
    "\n",
    "if not swap_from_token or not swap_to_token:\n",
    "    raise ValueError(\"Tokens not found in the Aave reserve tokens list.\")\n",
    "\n",
    "# Define the amount to swap and minimum amount to receive\n",
    "amount_to_swap = withdraw_amount  # Example: 100 DAI\n",
    "\n",
    "# Perform the swap\n",
    "try:\n",
    "    receipt = aave_client.swap(\n",
    "        swap_from_token=swap_from_token,\n",
    "        swap_to_token=swap_to_token,\n",
    "        amount_to_swap=amount_to_swap,\n",
    "    )\n",
    "    print(f\"Swap and deposit transaction completed. Receipt: {receipt}\")\n",
    "except Exception as e:\n",
    "    print(f\"Error executing swap: {e}\")\n"
   ]
  },
  {
   "cell_type": "code",
   "execution_count": 24,
   "metadata": {},
   "outputs": [
    {
     "name": "stdout",
     "output_type": "stream",
     "text": [
      "Time to repay...\n",
      "Approving transaction to repay 69.97474 of USDCE to Aave...\n",
      "Approved 69974740 of 0xFF970A61A04b1cA14834A43f5dE4533eBDDB5CC8 for contract 0x794a61358D6845594F94dc1DB02A252b5b4814aD\n",
      "Transaction approved!\n",
      "Repaying 69.97474 of USDCE...\n",
      "Awaiting transaction receipt for transaction hash: 0x98fb37ad263d1a622d8a57f5aba39767add6c692e870d8f5851f2959d682ca29 (timeout = 300 seconds)\n",
      "Repaid 69.97474 USDCE  |  36698.000000000000000000 ETH worth of debt remaining.\n",
      "Transaction Hash: AaveTrade(hash='0x98fb37ad263d1a622d8a57f5aba39767add6c692e870d8f5851f2959d682ca29', timestamp=1717667586, datetime='2024-06-06 11:53:06', contract_address=None, from_address='0x64b27E5b4cB9f4D6743Ea074de813f1401e36a5f', to_address='0x794a61358D6845594F94dc1DB02A252b5b4814aD', gas_price=Decimal('0.00000510074'), asset_symbol='USDCE', asset_address='0xFF970A61A04b1cA14834A43f5dE4533eBDDB5CC8', asset_amount=69.97474, asset_amount_decimal_units=69974740, interest_rate_mode='variable', operation='Repay')\n"
     ]
    }
   ],
   "source": [
    "\"\"\"repay tokens\"\"\"\n",
    "#repay_token = borrow_asset\n",
    "#reserve_token = next((token for token in aave_client.active_network.aave_tokens if token.address == repay_token), None)\n",
    "repay_amount = aave_client.convert_from_decimal_units(borrow_reserve_asset, borrow_asset_wallet_balance)\n",
    "repay_transaction_receipt = aave_client.repay(lending_pool_contract=lending_pool, repay_amount=repay_amount, repay_asset=borrow_reserve_asset)\n",
    "print(\"Transaction Hash:\", repay_transaction_receipt)\n"
   ]
  },
  {
   "cell_type": "code",
   "execution_count": 20,
   "metadata": {},
   "outputs": [
    {
     "name": "stdout",
     "output_type": "stream",
     "text": [
      "Transaction Hash: AaveTrade(hash='0xbd96dff10bcb72549ff29392deb8f0ce48213fb192a8e516f27a5e6c0586926a', timestamp=1717667401, datetime='2024-06-06 11:50:01', contract_address=None, from_address='0x64b27E5b4cB9f4D6743Ea074de813f1401e36a5f', to_address='0x794a61358D6845594F94dc1DB02A252b5b4814aD', gas_price=Decimal('0.00000470395'), asset_symbol='USDCE', asset_address='0xFF970A61A04b1cA14834A43f5dE4533eBDDB5CC8', asset_amount=69.97469168492466, asset_amount_decimal_units=69974691, interest_rate_mode='variable', operation='Borrow')\n"
     ]
    }
   ],
   "source": [
    "\"\"\"borrow tokens\"\"\"\n",
    "borrow_amount = LTV * aave_client.convert_from_decimal_units(supply_reserve_asset, supply_reserves[0])\n",
    "borrow_transaction_receipt = aave_client.borrow(lending_pool_contract=lending_pool, borrow_amount=borrow_amount, borrow_asset=borrow_reserve_asset)\n",
    "print(\"Transaction Hash:\", borrow_transaction_receipt)\n"
   ]
  }
 ],
 "metadata": {
  "kernelspec": {
   "display_name": "aave_functions",
   "language": "python",
   "name": "python3"
  },
  "language_info": {
   "codemirror_mode": {
    "name": "ipython",
    "version": 3
   },
   "file_extension": ".py",
   "mimetype": "text/x-python",
   "name": "python",
   "nbconvert_exporter": "python",
   "pygments_lexer": "ipython3",
   "version": "3.9.6"
  }
 },
 "nbformat": 4,
 "nbformat_minor": 2
}
