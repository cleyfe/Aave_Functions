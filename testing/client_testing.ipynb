{
 "cells": [
  {
   "cell_type": "code",
   "execution_count": 1,
   "metadata": {},
   "outputs": [],
   "source": [
    "import os  # For fetching environment variables\n",
    "import sys\n",
    "\n",
    "# Add the parent directory to the sys.path\n",
    "module_path = os.path.abspath(os.path.join('..'))\n",
    "if module_path not in sys.path:\n",
    "    sys.path.append(module_path)"
   ]
  },
  {
   "cell_type": "code",
   "execution_count": 2,
   "metadata": {},
   "outputs": [
    {
     "name": "stderr",
     "output_type": "stream",
     "text": [
      "/Users/cleme/cleyfe/Aave_Functions/aave_functions/lib/python3.9/site-packages/urllib3/__init__.py:35: NotOpenSSLWarning: urllib3 v2 only supports OpenSSL 1.1.1+, currently the 'ssl' module is compiled with 'LibreSSL 2.8.3'. See: https://github.com/urllib3/urllib3/issues/3020\n",
      "  warnings.warn(\n"
     ]
    }
   ],
   "source": [
    "import pandas as pd\n",
    "import math\n",
    "import datetime\n",
    "import time\n",
    "from pprint import pprint\n",
    "from aave_client import AaveClient"
   ]
  },
  {
   "cell_type": "code",
   "execution_count": 3,
   "metadata": {},
   "outputs": [],
   "source": [
    "RPC = \"ARBITRUM\"\n",
    "\n",
    "if RPC == \"POLYGON\":\n",
    "    RPC_URL = os.getenv(\"POLYGON_RPC_URL\")\n",
    "elif RPC == \"ETHEREUM\":\n",
    "    RPC_URL = os.getenv(\"MAINNET_RPC_URL\")\n",
    "elif RPC == \"ARBITRUM\":\n",
    "    RPC_URL = os.getenv(\"ARBITRUM_RPC_URL\")\n",
    "elif RPC == \"KOVAN\":\n",
    "    RPC_URL = os.getenv(\"KOVAN_RPC_URL\")\n",
    "elif RPC == \"MUMBAI\":\n",
    "    RPC_URL = os.getenv(\"MUMBAI_RPC_URL\")\n",
    "else:\n",
    "    RPC_URL = None  # or handle the case when the RPC does not match any known value\n",
    "\n",
    "# Define a dictionary to map RPC to the appropriate keyword argument\n",
    "rpc_url_args = {\n",
    "    \"POLYGON\": \"POLYGON_RPC_URL\",\n",
    "    \"ETHEREUM\": \"MAINNET_RPC_URL\",\n",
    "    \"ARBITRUM\": \"ARBITRUM_RPC_URL\",\n",
    "    \"KOVAN\": \"KOVAN_RPC_URL\",\n",
    "    \"MUMBAI\": \"MUMBAI_RPC_URL\"\n",
    "}\n",
    "\n",
    "# Determine the correct argument to pass based on the RPC value\n",
    "rpc_arg = {rpc_url_args[RPC]: RPC_URL}"
   ]
  },
  {
   "cell_type": "code",
   "execution_count": 4,
   "metadata": {},
   "outputs": [
    {
     "name": "stdout",
     "output_type": "stream",
     "text": [
      "0x794a61358D6845594F94dc1DB02A252b5b4814aD\n"
     ]
    }
   ],
   "source": [
    "# Initialize Client:\n",
    "aave_client = AaveClient(WALLET_ADDRESS=os.getenv('WALLET_ADDRESS'),\n",
    "                                PRIVATE_WALLET_KEY=os.getenv('PRIVATE_WALLET_KEY'),\n",
    "                                GAS_STRATEGY=\"medium\",\n",
    "                                **rpc_arg)\n",
    "\n",
    "# Get the lending pool smart contract:\n",
    "lending_pool = aave_client.get_lending_pool()\n",
    "print(lending_pool.address)"
   ]
  },
  {
   "cell_type": "code",
   "execution_count": 5,
   "metadata": {},
   "outputs": [
    {
     "data": {
      "text/plain": [
       "(0.0, 0.0, 0.0)"
      ]
     },
     "execution_count": 5,
     "metadata": {},
     "output_type": "execute_result"
    }
   ],
   "source": [
    "\"\"\" ------------------------------------------- Testing Cases ------------------------------------------------ \"\"\"\n",
    "\n",
    "available_borrow_base, total_debt_base, total_collateral_base = aave_client.get_user_data(lending_pool)\n",
    "available_borrow_base, total_debt_base, total_collateral_base"
   ]
  },
  {
   "cell_type": "code",
   "execution_count": 6,
   "metadata": {},
   "outputs": [
    {
     "name": "stdout",
     "output_type": "stream",
     "text": [
      "[('DAI', '0xDA10009cBd5D07dd0CeCc66161FC93D7c9000da1'), ('LINK', '0xf97f4df75117a78c1A5a0DBb814Af92458539FB4'), ('USDC', '0xFF970A61A04b1cA14834A43f5dE4533eBDDB5CC8'), ('WBTC', '0x2f2a2543B76A4166549F7aaB2e75Bef0aefC5B0f'), ('WETH', '0x82aF49447D8a07e3bd95BD0d56f35241523fBab1'), ('USDT', '0xFd086bC7CD5C481DCC9C85ebE478A1C0b69FCbb9'), ('AAVE', '0xba5DdD1f9d7F570dc94a51479a000E3BCE967196'), ('EURS', '0xD22a58f79e9481D1a88e00c343885A588b34b68B'), ('wstETH', '0x5979D7b546E38E414F7E9822514be443A4800529'), ('MAI', '0x3F56e0c36d275367b8C502090EDF38289b3dEa0d'), ('rETH', '0xEC70Dcb4A1EFa46b8F2D97C310C9c4790ba5ffA8'), ('LUSD', '0x93b346b6BC2548dA6A1E7d98E9a421B42541425b'), ('USDC', '0xaf88d065e77c8cC2239327C5EDb3A432268e5831'), ('FRAX', '0x17FC002b466eEc40DaE837Fc4bE5c67993ddBd6F'), ('ARB', '0x912CE59144191C1204E64559FE8253a0e49E6548'), ('weETH', '0x35751007a407ca6FEFfE80b3cB397736D2cf4dbe')]\n"
     ]
    }
   ],
   "source": [
    "''' ----------------- Call protocol functions ----------------- '''\n",
    "function_name = \"getAllReservesTokens\"\n",
    "asset_address = '0x2791Bca1f2de4661ED88A30C99A7a9449Aa84174'\n",
    "user_address = os.getenv('WALLET_ADDRESS')\n",
    "\n",
    "# Example usage for getAllReservesTokens which requires no parameters\n",
    "assets = aave_client.get_protocol_data(\"getAllReservesTokens\")\n",
    "print(assets)\n",
    "\n",
    "# Example usage for getReserveConfigurationData which requires an asset address parameter\n",
    "#result = aave_client.get_protocol_data(\"getReserveConfigurationData\", asset_address)\n",
    "#print(result)\n",
    "\n",
    "# Example usage for getUserReserveData which requires asset and user address parameters\n",
    "#result = aave_client.get_protocol_data(\"getUserReserveData\", asset_address, user_address)\n",
    "#print(result)"
   ]
  },
  {
   "cell_type": "code",
   "execution_count": 13,
   "metadata": {},
   "outputs": [
    {
     "data": {
      "text/html": [
       "<div>\n",
       "<style scoped>\n",
       "    .dataframe tbody tr th:only-of-type {\n",
       "        vertical-align: middle;\n",
       "    }\n",
       "\n",
       "    .dataframe tbody tr th {\n",
       "        vertical-align: top;\n",
       "    }\n",
       "\n",
       "    .dataframe thead th {\n",
       "        text-align: right;\n",
       "    }\n",
       "</style>\n",
       "<table border=\"1\" class=\"dataframe\">\n",
       "  <thead>\n",
       "    <tr style=\"text-align: right;\">\n",
       "      <th></th>\n",
       "      <th>symbol</th>\n",
       "      <th>currentLiquidityRate</th>\n",
       "      <th>currentVariableBorrowRate</th>\n",
       "      <th>lastUpdateTimestamp</th>\n",
       "    </tr>\n",
       "  </thead>\n",
       "  <tbody>\n",
       "    <tr>\n",
       "      <th>0xDA10009cBd5D07dd0CeCc66161FC93D7c9000da1</th>\n",
       "      <td>DAI</td>\n",
       "      <td>12.906058</td>\n",
       "      <td>19.736559</td>\n",
       "      <td>2024-06-05 05:42:46</td>\n",
       "    </tr>\n",
       "    <tr>\n",
       "      <th>0xFF970A61A04b1cA14834A43f5dE4533eBDDB5CC8</th>\n",
       "      <td>USDC</td>\n",
       "      <td>5.508650</td>\n",
       "      <td>9.964743</td>\n",
       "      <td>2024-06-05 06:11:40</td>\n",
       "    </tr>\n",
       "    <tr>\n",
       "      <th>0xFd086bC7CD5C481DCC9C85ebE478A1C0b69FCbb9</th>\n",
       "      <td>USDT</td>\n",
       "      <td>15.042498</td>\n",
       "      <td>18.805374</td>\n",
       "      <td>2024-06-05 06:12:36</td>\n",
       "    </tr>\n",
       "    <tr>\n",
       "      <th>0xaf88d065e77c8cC2239327C5EDb3A432268e5831</th>\n",
       "      <td>USDC</td>\n",
       "      <td>13.086668</td>\n",
       "      <td>15.951053</td>\n",
       "      <td>2024-06-05 06:13:15</td>\n",
       "    </tr>\n",
       "  </tbody>\n",
       "</table>\n",
       "</div>"
      ],
      "text/plain": [
       "                                           symbol  currentLiquidityRate  \\\n",
       "0xDA10009cBd5D07dd0CeCc66161FC93D7c9000da1    DAI             12.906058   \n",
       "0xFF970A61A04b1cA14834A43f5dE4533eBDDB5CC8   USDC              5.508650   \n",
       "0xFd086bC7CD5C481DCC9C85ebE478A1C0b69FCbb9   USDT             15.042498   \n",
       "0xaf88d065e77c8cC2239327C5EDb3A432268e5831   USDC             13.086668   \n",
       "\n",
       "                                            currentVariableBorrowRate  \\\n",
       "0xDA10009cBd5D07dd0CeCc66161FC93D7c9000da1                  19.736559   \n",
       "0xFF970A61A04b1cA14834A43f5dE4533eBDDB5CC8                   9.964743   \n",
       "0xFd086bC7CD5C481DCC9C85ebE478A1C0b69FCbb9                  18.805374   \n",
       "0xaf88d065e77c8cC2239327C5EDb3A432268e5831                  15.951053   \n",
       "\n",
       "                                           lastUpdateTimestamp  \n",
       "0xDA10009cBd5D07dd0CeCc66161FC93D7c9000da1 2024-06-05 05:42:46  \n",
       "0xFF970A61A04b1cA14834A43f5dE4533eBDDB5CC8 2024-06-05 06:11:40  \n",
       "0xFd086bC7CD5C481DCC9C85ebE478A1C0b69FCbb9 2024-06-05 06:12:36  \n",
       "0xaf88d065e77c8cC2239327C5EDb3A432268e5831 2024-06-05 06:13:15  "
      ]
     },
     "execution_count": 13,
     "metadata": {},
     "output_type": "execute_result"
    }
   ],
   "source": [
    "''' ----------------- Call pool functions ----------------- '''\n",
    "#assets = [('DAI', '0x8f3Cf7ad23Cd3CaDbD9735AFf958023239c6A063'), ('LINK', '0x53E0bca35eC356BD5ddDFebbD1Fc0fD03FaBad39'), ('USDC', '0x2791Bca1f2de4661ED88A30C99A7a9449Aa84174'), ('WBTC', '0x1BFD67037B42Cf73acF2047067bd4F2C47D9BfD6'), ('WETH', '0x7ceB23fD6bC0adD59E62ac25578270cFf1b9f619'), ('USDT', '0xc2132D05D31c914a87C6611C10748AEb04B58e8F'), ('AAVE', '0xD6DF932A45C0f255f85145f286eA0b292B21C90B'), ('WMATIC', '0x0d500B1d8E8eF31E21C99d1Db9A6444d3ADf1270'), ('CRV', '0x172370d5Cd63279eFa6d502DAB29171933a610AF'), ('SUSHI', '0x0b3F868E0BE5597D5DB7fEB59E1CADBb0fdDa50a'), ('GHST', '0x385Eeac5cB85A38A9a07A70c73e0a3271CfB54A7'), ('BAL', '0x9a71012B13CA4d3D0Cdc72A177DF3ef03b0E76A3'), ('DPI', '0x85955046DF4668e1DD369D2DE9f3AEB98DD2A369'), ('EURS', '0xE111178A87A3BFf0c8d18DECBa5798827539Ae99'), ('jEUR', '0x4e3Decbb3645551B8A19f0eA1678079FCB33fB4c'), ('EURA', '0xE0B52e49357Fd4DAf2c15e02058DCE6BC0057db4'), ('miMATIC', '0xa3Fa99A148fA48D14Ed51d610c367C61876997F1'), ('stMATIC', '0x3A58a54C066FdC0f2D55FC9C89F0415C92eBf3C4'), ('MaticX', '0xfa68FB4628DFF1028CFEc22b4162FCcd0d45efb6'), ('wstETH', '0x03b54A6e9a984069379fae1a4fC4dBAE93B3bCCD'), ('USDC', '0x3c499c542cEF5E3811e1192ce70d8cC03d5c3359')]\n",
    "assets_symbols = ['DAI', 'USDC', 'USDT']\n",
    "user_address = os.getenv('WALLET_ADDRESS')\n",
    "\n",
    "filtered_assets = [asset for asset in assets if asset[0] in assets_symbols]\n",
    "\n",
    "df = pd.DataFrame(columns=['symbol', 'currentLiquidityRate', 'currentVariableBorrowRate', 'lastUpdateTimestamp'])\n",
    "\n",
    "# Iterate over the filtered assets and call the desired functions\n",
    "for symbol, asset_address in filtered_assets:\n",
    "    # Call getReserveData for each asset\n",
    "    reserve_data = aave_client.get_pool_data(lending_pool, \"getReserveData\", asset_address)\n",
    "    # Extract the required data\n",
    "    current_liquidity_rate = reserve_data['currentLiquidityRate'] * 100\n",
    "    current_variable_borrow_rate = reserve_data['currentVariableBorrowRate'] * 100\n",
    "    last_update_timestamp = pd.to_datetime(reserve_data['lastUpdateTimestamp'], unit='s')\n",
    "    \n",
    "    # Append the data to the DataFrame\n",
    "    df.loc[asset_address] = [symbol, current_liquidity_rate, current_variable_borrow_rate, last_update_timestamp]\n",
    "\n",
    "df"
   ]
  },
  {
   "cell_type": "code",
   "execution_count": 14,
   "metadata": {},
   "outputs": [
    {
     "data": {
      "text/plain": [
       "5.077754612292804"
      ]
     },
     "execution_count": 14,
     "metadata": {},
     "output_type": "execute_result"
    }
   ],
   "source": [
    "''' ----------------- Spread between largest supply rate and smallest borrow rate ----------------- '''\n",
    "spread = df['currentLiquidityRate'].max() - df['currentVariableBorrowRate'].min()\n",
    "spread"
   ]
  },
  {
   "cell_type": "code",
   "execution_count": 9,
   "metadata": {},
   "outputs": [
    {
     "name": "stdout",
     "output_type": "stream",
     "text": [
      "number_of_loops:  12\n",
      "total_collateral 7175.704635189999 leverage 7.175704635189999\n"
     ]
    }
   ],
   "source": [
    "'''\n",
    "Maximum leverage with x LTV if we borrow until the borrowing amount becomes less than 10% of the initial capital\n",
    "\n",
    "Bn < 0.1 * C0\n",
    "0.9^n < 0.1\n",
    "n>21.85\n",
    "hence 22 loops\n",
    "'''\n",
    "LTV = 0.9\n",
    "initial_collateral = 1000 # e.g. $1000\n",
    "stop_condition = 0.3\n",
    "\n",
    "number_of_loops = math.ceil(math.log(stop_condition) / math.log(LTV))\n",
    "print(\"number_of_loops: \", number_of_loops)\n",
    "\n",
    "#total_collateral = 1000 * (1 / (1-0.9))\n",
    "total_collateral = initial_collateral * ((1 - 0.9**number_of_loops) / 0.1)\n",
    "leverage = total_collateral / initial_collateral\n",
    "\n",
    "print(\"total_collateral\", total_collateral, \"leverage\", leverage)"
   ]
  },
  {
   "cell_type": "code",
   "execution_count": 10,
   "metadata": {},
   "outputs": [
    {
     "data": {
      "text/plain": [
       "15.261397934477708"
      ]
     },
     "execution_count": 10,
     "metadata": {},
     "output_type": "execute_result"
    }
   ],
   "source": [
    "''' ------------------------ Final APY ------------------'''\n",
    "apy = ( df['currentLiquidityRate'].max() * initial_collateral + (total_collateral - initial_collateral) * spread ) / initial_collateral\n",
    "apy"
   ]
  },
  {
   "cell_type": "code",
   "execution_count": 15,
   "metadata": {},
   "outputs": [
    {
     "name": "stdout",
     "output_type": "stream",
     "text": [
      "User reserve data: (1056,)\n"
     ]
    }
   ],
   "source": [
    "# Call getUserReserveData \n",
    "user_reserve_data = aave_client.get_pool_data(lending_pool, \"getUserConfiguration\", user_address)\n",
    "print(f\"User reserve data: {user_reserve_data}\")"
   ]
  },
  {
   "cell_type": "code",
   "execution_count": 17,
   "metadata": {},
   "outputs": [
    {
     "data": {
      "text/plain": [
       "['0x8f3Cf7ad23Cd3CaDbD9735AFf958023239c6A063',\n",
       " '0x53E0bca35eC356BD5ddDFebbD1Fc0fD03FaBad39',\n",
       " '0x2791Bca1f2de4661ED88A30C99A7a9449Aa84174',\n",
       " '0x1BFD67037B42Cf73acF2047067bd4F2C47D9BfD6',\n",
       " '0x7ceB23fD6bC0adD59E62ac25578270cFf1b9f619',\n",
       " '0xc2132D05D31c914a87C6611C10748AEb04B58e8F',\n",
       " '0xD6DF932A45C0f255f85145f286eA0b292B21C90B',\n",
       " '0x0d500B1d8E8eF31E21C99d1Db9A6444d3ADf1270',\n",
       " '0x172370d5Cd63279eFa6d502DAB29171933a610AF',\n",
       " '0x0b3F868E0BE5597D5DB7fEB59E1CADBb0fdDa50a',\n",
       " '0x385Eeac5cB85A38A9a07A70c73e0a3271CfB54A7',\n",
       " '0x9a71012B13CA4d3D0Cdc72A177DF3ef03b0E76A3',\n",
       " '0x85955046DF4668e1DD369D2DE9f3AEB98DD2A369',\n",
       " '0xE111178A87A3BFf0c8d18DECBa5798827539Ae99',\n",
       " '0x4e3Decbb3645551B8A19f0eA1678079FCB33fB4c',\n",
       " '0xE0B52e49357Fd4DAf2c15e02058DCE6BC0057db4',\n",
       " '0xa3Fa99A148fA48D14Ed51d610c367C61876997F1',\n",
       " '0x3A58a54C066FdC0f2D55FC9C89F0415C92eBf3C4',\n",
       " '0xfa68FB4628DFF1028CFEc22b4162FCcd0d45efb6',\n",
       " '0x03b54A6e9a984069379fae1a4fC4dBAE93B3bCCD',\n",
       " '0x3c499c542cEF5E3811e1192ce70d8cC03d5c3359']"
      ]
     },
     "execution_count": 17,
     "metadata": {},
     "output_type": "execute_result"
    }
   ],
   "source": [
    "reserves_assets_list = aave_client.get_pool_data(lending_pool, \"getReservesList\")\n"
   ]
  },
  {
   "cell_type": "code",
   "execution_count": 29,
   "metadata": {},
   "outputs": [],
   "source": [
    "# Call getUserReserveData\n",
    "user_reserve_data = aave_client.get_pool_data(lending_pool, \"getUserConfiguration\", user_address)\n",
    "\n",
    "def interpret_user_reserve_data(user_reserve_data):\n",
    "    # Extract the relevant value from the tuple\n",
    "    user_reserve_value = user_reserve_data[0]\n",
    "\n",
    "    # Convert the user_reserve_value to binary representation\n",
    "    binary_data = bin(user_reserve_value)[2:]\n",
    "\n",
    "    # Pad the binary data with leading zeros to ensure it has a length of 32 bits\n",
    "    binary_data = binary_data.zfill(32)\n",
    "\n",
    "    # Split the binary data into pairs of bits\n",
    "    bit_pairs = [binary_data[i:i+2] for i in range(0, len(binary_data), 2)]\n",
    "\n",
    "    # Initialize empty lists to store the indices of borrowed and collateral assets\n",
    "    borrowed_indices = []\n",
    "    collateral_indices = []\n",
    "\n",
    "    # Iterate over the bit pairs, starting from the right\n",
    "    for i in range(len(bit_pairs)-1, -1, -1):\n",
    "        pair = bit_pairs[i]\n",
    "        asset_index = len(bit_pairs) - i - 1\n",
    "\n",
    "        if pair == \"01\":\n",
    "            borrowed_indices.append(asset_index)\n",
    "        elif pair == \"11\":\n",
    "            collateral_indices.append(asset_index)\n",
    "            borrowed_indices.append(asset_index)\n",
    "        elif pair == \"10\":\n",
    "            collateral_indices.append(asset_index)\n",
    "\n",
    "    return borrowed_indices, collateral_indices\n",
    "\n",
    "borrowed_indices, collateral_indices = interpret_user_reserve_data(user_reserve_data)"
   ]
  },
  {
   "cell_type": "code",
   "execution_count": 31,
   "metadata": {},
   "outputs": [
    {
     "name": "stdout",
     "output_type": "stream",
     "text": [
      "Supplied asset is:  0xc2132D05D31c914a87C6611C10748AEb04B58e8F\n",
      "Borrowed asset is:  0x2791Bca1f2de4661ED88A30C99A7a9449Aa84174\n"
     ]
    }
   ],
   "source": [
    "# verify that borrowed and collateral assets are unique\n",
    "if len(borrowed_indices) > 1:\n",
    "    print(\"More than 1 asset are being borrowed\")\n",
    "\n",
    "if len(collateral_indices) > 1:\n",
    "    print(\"More than 1 asset are being used as collateral\")\n",
    "\n",
    "print(\"Supplied asset is: \", reserves_assets_list[collateral_indices[0]])\n",
    "print(\"Borrowed asset is: \", reserves_assets_list[borrowed_indices[0]])"
   ]
  },
  {
   "cell_type": "code",
   "execution_count": null,
   "metadata": {},
   "outputs": [],
   "source": [
    "# withdraw USDC\n"
   ]
  },
  {
   "cell_type": "code",
   "execution_count": 13,
   "metadata": {},
   "outputs": [
    {
     "ename": "AttributeError",
     "evalue": "'AaveClient' object has no attribute 'get_reserve_token'",
     "output_type": "error",
     "traceback": [
      "\u001b[0;31m---------------------------------------------------------------------------\u001b[0m",
      "\u001b[0;31mAttributeError\u001b[0m                            Traceback (most recent call last)",
      "\u001b[1;32m/Users/cleme/cleyfe/Aave_Functions/testing/client_testing.ipynb Cell 13\u001b[0m line \u001b[0;36m2\n\u001b[1;32m     <a href='vscode-notebook-cell:/Users/cleme/cleyfe/Aave_Functions/testing/client_testing.ipynb#W2sZmlsZQ%3D%3D?line=9'>10</a>\u001b[0m     deposit_token \u001b[39m=\u001b[39m aave_client\u001b[39m.\u001b[39mget_reserve_token(symbol\u001b[39m=\u001b[39m\u001b[39m\"\u001b[39m\u001b[39mWETH\u001b[39m\u001b[39m\"\u001b[39m)\n\u001b[1;32m     <a href='vscode-notebook-cell:/Users/cleme/cleyfe/Aave_Functions/testing/client_testing.ipynb#W2sZmlsZQ%3D%3D?line=10'>11</a>\u001b[0m     \u001b[39m# deposit_amount =\u001b[39;00m\n\u001b[1;32m     <a href='vscode-notebook-cell:/Users/cleme/cleyfe/Aave_Functions/testing/client_testing.ipynb#W2sZmlsZQ%3D%3D?line=11'>12</a>\u001b[0m     \u001b[39m# # First you must approve the transaction:\u001b[39;00m\n\u001b[1;32m     <a href='vscode-notebook-cell:/Users/cleme/cleyfe/Aave_Functions/testing/client_testing.ipynb#W2sZmlsZQ%3D%3D?line=12'>13</a>\u001b[0m     \u001b[39m# print(aave_client.approve_erc20(erc20_address=deposit_token.address,\u001b[39;00m\n\u001b[0;32m   (...)\u001b[0m\n\u001b[1;32m     <a href='vscode-notebook-cell:/Users/cleme/cleyfe/Aave_Functions/testing/client_testing.ipynb#W2sZmlsZQ%3D%3D?line=18'>19</a>\u001b[0m \n\u001b[1;32m     <a href='vscode-notebook-cell:/Users/cleme/cleyfe/Aave_Functions/testing/client_testing.ipynb#W2sZmlsZQ%3D%3D?line=19'>20</a>\u001b[0m \u001b[39m# Miscellaneous Test Cases:\u001b[39;00m\n\u001b[0;32m---> <a href='vscode-notebook-cell:/Users/cleme/cleyfe/Aave_Functions/testing/client_testing.ipynb#W2sZmlsZQ%3D%3D?line=20'>21</a>\u001b[0m token \u001b[39m=\u001b[39m aave_client\u001b[39m.\u001b[39;49mget_reserve_token(\u001b[39m\"\u001b[39m\u001b[39mUSDT\u001b[39m\u001b[39m\"\u001b[39m)\n\u001b[1;32m     <a href='vscode-notebook-cell:/Users/cleme/cleyfe/Aave_Functions/testing/client_testing.ipynb#W2sZmlsZQ%3D%3D?line=21'>22</a>\u001b[0m amount \u001b[39m=\u001b[39m \u001b[39m1\u001b[39m\n\u001b[1;32m     <a href='vscode-notebook-cell:/Users/cleme/cleyfe/Aave_Functions/testing/client_testing.ipynb#W2sZmlsZQ%3D%3D?line=22'>23</a>\u001b[0m \u001b[39mprint\u001b[39m(\u001b[39mf\u001b[39m\u001b[39m\"\u001b[39m\u001b[39m{\u001b[39;00mtoken\u001b[39m.\u001b[39msymbol\u001b[39m}\u001b[39;00m\u001b[39m Decimal Units Amount:\u001b[39m\u001b[39m\"\u001b[39m, \u001b[39mint\u001b[39m(amount \u001b[39m*\u001b[39m (\u001b[39m10\u001b[39m \u001b[39m*\u001b[39m\u001b[39m*\u001b[39m \u001b[39mint\u001b[39m(token\u001b[39m.\u001b[39mdecimals))))\n",
      "\u001b[0;31mAttributeError\u001b[0m: 'AaveClient' object has no attribute 'get_reserve_token'"
     ]
    }
   ],
   "source": [
    "\n",
    "# Convert USDC to USDT:\n",
    "run_test = False\n",
    "if run_test:\n",
    "    convert_amount = 0.001\n",
    "    aave_client.convert_eth_to_weth(amount_in_eth=convert_amount)\n",
    "\n",
    "# Deposit Tokens:\n",
    "run_test = False\n",
    "if run_test:\n",
    "    deposit_token = aave_client.get_reserve_token(symbol=\"WETH\")\n",
    "    # deposit_amount =\n",
    "    # # First you must approve the transaction:\n",
    "    # print(aave_client.approve_erc20(erc20_address=deposit_token.address,\n",
    "    #                                 lending_pool_contract=lending_pool,\n",
    "    #                                 amount_in_decimal_units=depo_amnt).hex())\n",
    "    # print(\"Approved in\", time.time() - approval_start, \"seconds\")\n",
    "    # deposit_hash = aave_client.deposit_to_aave(deposit_token_erc20_address=weth_token_addr, amount_in_wei=depo_amnt,\n",
    "    #                                            lending_pool_contract=lending_pool)\n",
    "\n",
    "# Miscellaneous Test Cases:\n",
    "token = aave_client.get_reserve_token(\"USDT\")\n",
    "amount = 1\n",
    "print(f\"{token.symbol} Decimal Units Amount:\", int(amount * (10 ** int(token.decimals))))\n",
    "\n",
    "borrow_token = aave_client.get_reserve_token(\"USDC\")\n",
    "borrow_percentage = 1.0\n",
    "total_borrowable_in_eth, total_debt_eth, total_collateral_eth = aave_client.get_user_data(lending_pool)\n",
    "print(\"Borrowable (ETH):\", total_borrowable_in_eth, \"Debt (ETH):\", total_debt_eth, \"Collateral (ETH):\", total_collateral_eth)\n",
    "#weth_to_borrow_asset = aave_client.get_asset_price(base_address=token.address, quote_address=borrow_token.address)\n",
    "#print(weth_to_borrow_asset)\n",
    "#amount_to_borrow = weth_to_borrow_asset * (total_borrowable_in_eth * borrow_percentage)\n",
    "#print(\"\\nAmount to borrow:\", amount_to_borrow, borrow_token.symbol)\n",
    "#print(f\"\\nOutstanding Debt (in ETH): {total_debt_eth:.18f} ({total_debt_eth * weth_to_borrow_asset} DAI)\")\n",
    "\n",
    "pprint(aave_client.list_reserve_tokens())\n",
    "# So, 1.2 USDC will be 1.2 * 10 ^ 6"
   ]
  }
 ],
 "metadata": {
  "kernelspec": {
   "display_name": "aave_functions",
   "language": "python",
   "name": "python3"
  },
  "language_info": {
   "codemirror_mode": {
    "name": "ipython",
    "version": 3
   },
   "file_extension": ".py",
   "mimetype": "text/x-python",
   "name": "python",
   "nbconvert_exporter": "python",
   "pygments_lexer": "ipython3",
   "version": "3.9.6"
  }
 },
 "nbformat": 4,
 "nbformat_minor": 2
}
