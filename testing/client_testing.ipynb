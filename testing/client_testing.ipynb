{
 "cells": [
  {
   "cell_type": "code",
   "execution_count": 1,
   "metadata": {},
   "outputs": [],
   "source": [
    "import os  # For fetching environment variables\n",
    "import sys\n",
    "\n",
    "# Add the parent directory to the sys.path\n",
    "module_path = os.path.abspath(os.path.join('..'))\n",
    "if module_path not in sys.path:\n",
    "    sys.path.append(module_path)"
   ]
  },
  {
   "cell_type": "code",
   "execution_count": 2,
   "metadata": {},
   "outputs": [
    {
     "name": "stderr",
     "output_type": "stream",
     "text": [
      "/Users/cleme/cleyfe/Aave_Functions/aave_functions/lib/python3.9/site-packages/urllib3/__init__.py:35: NotOpenSSLWarning: urllib3 v2 only supports OpenSSL 1.1.1+, currently the 'ssl' module is compiled with 'LibreSSL 2.8.3'. See: https://github.com/urllib3/urllib3/issues/3020\n",
      "  warnings.warn(\n"
     ]
    }
   ],
   "source": [
    "import pandas as pd\n",
    "import math\n",
    "import datetime\n",
    "import time\n",
    "from eth_utils import to_bytes, to_int\n",
    "import requests\n",
    "\n",
    "from pprint import pprint\n",
    "from aave_client import AaveClient"
   ]
  },
  {
   "cell_type": "code",
   "execution_count": 3,
   "metadata": {},
   "outputs": [],
   "source": [
    "RPC = \"ARBITRUM\"\n",
    "\n",
    "if RPC == \"POLYGON\":\n",
    "    RPC_URL = os.getenv(\"POLYGON_RPC_URL\")\n",
    "elif RPC == \"ETHEREUM\":\n",
    "    RPC_URL = os.getenv(\"MAINNET_RPC_URL\")\n",
    "elif RPC == \"ARBITRUM\":\n",
    "    RPC_URL = os.getenv(\"ARBITRUM_RPC_URL\")\n",
    "elif RPC == \"KOVAN\":\n",
    "    RPC_URL = os.getenv(\"KOVAN_RPC_URL\")\n",
    "elif RPC == \"MUMBAI\":\n",
    "    RPC_URL = os.getenv(\"MUMBAI_RPC_URL\")\n",
    "else:\n",
    "    RPC_URL = None  # or handle the case when the RPC does not match any known value\n",
    "\n",
    "# Define a dictionary to map RPC to the appropriate keyword argument\n",
    "rpc_url_args = {\n",
    "    \"POLYGON\": \"POLYGON_RPC_URL\",\n",
    "    \"ETHEREUM\": \"MAINNET_RPC_URL\",\n",
    "    \"ARBITRUM\": \"ARBITRUM_RPC_URL\",\n",
    "    \"KOVAN\": \"KOVAN_RPC_URL\",\n",
    "    \"MUMBAI\": \"MUMBAI_RPC_URL\"\n",
    "}\n",
    "\n",
    "# Determine the correct argument to pass based on the RPC value\n",
    "rpc_arg = {rpc_url_args[RPC]: RPC_URL}"
   ]
  },
  {
   "cell_type": "code",
   "execution_count": 4,
   "metadata": {},
   "outputs": [
    {
     "name": "stdout",
     "output_type": "stream",
     "text": [
      "0x794a61358D6845594F94dc1DB02A252b5b4814aD\n"
     ]
    }
   ],
   "source": [
    "# Initialize Client:\n",
    "aave_client = AaveClient(WALLET_ADDRESS=os.getenv('WALLET_ADDRESS'),\n",
    "                                PRIVATE_WALLET_KEY=os.getenv('PRIVATE_WALLET_KEY'),\n",
    "                                GAS_STRATEGY=\"medium\",\n",
    "                                **rpc_arg)\n",
    "\n",
    "# Get the lending pool smart contract:\n",
    "lending_pool = aave_client.get_lending_pool()\n",
    "print(lending_pool.address)"
   ]
  },
  {
   "cell_type": "code",
   "execution_count": 5,
   "metadata": {},
   "outputs": [
    {
     "data": {
      "text/plain": [
       "(0.0, 0.0, 0.0)"
      ]
     },
     "execution_count": 5,
     "metadata": {},
     "output_type": "execute_result"
    }
   ],
   "source": [
    "\"\"\" ------------------------------------------- Testing Cases ------------------------------------------------ \"\"\"\n",
    "\n",
    "available_borrow_base, total_debt_base, total_collateral_base = aave_client.get_user_data(lending_pool)\n",
    "available_borrow_base, total_debt_base, total_collateral_base"
   ]
  },
  {
   "cell_type": "code",
   "execution_count": 6,
   "metadata": {},
   "outputs": [
    {
     "name": "stdout",
     "output_type": "stream",
     "text": [
      "[('DAI', '0xDA10009cBd5D07dd0CeCc66161FC93D7c9000da1'), ('LINK', '0xf97f4df75117a78c1A5a0DBb814Af92458539FB4'), ('USDC', '0xFF970A61A04b1cA14834A43f5dE4533eBDDB5CC8'), ('WBTC', '0x2f2a2543B76A4166549F7aaB2e75Bef0aefC5B0f'), ('WETH', '0x82aF49447D8a07e3bd95BD0d56f35241523fBab1'), ('USDT', '0xFd086bC7CD5C481DCC9C85ebE478A1C0b69FCbb9'), ('AAVE', '0xba5DdD1f9d7F570dc94a51479a000E3BCE967196'), ('EURS', '0xD22a58f79e9481D1a88e00c343885A588b34b68B'), ('wstETH', '0x5979D7b546E38E414F7E9822514be443A4800529'), ('MAI', '0x3F56e0c36d275367b8C502090EDF38289b3dEa0d'), ('rETH', '0xEC70Dcb4A1EFa46b8F2D97C310C9c4790ba5ffA8'), ('LUSD', '0x93b346b6BC2548dA6A1E7d98E9a421B42541425b'), ('USDC', '0xaf88d065e77c8cC2239327C5EDb3A432268e5831'), ('FRAX', '0x17FC002b466eEc40DaE837Fc4bE5c67993ddBd6F'), ('ARB', '0x912CE59144191C1204E64559FE8253a0e49E6548'), ('weETH', '0x35751007a407ca6FEFfE80b3cB397736D2cf4dbe')]\n"
     ]
    }
   ],
   "source": [
    "''' ----------------- Call protocol functions ----------------- '''\n",
    "function_name = \"getAllReservesTokens\"\n",
    "asset_address = '0x2791Bca1f2de4661ED88A30C99A7a9449Aa84174'\n",
    "user_address = os.getenv('WALLET_ADDRESS')\n",
    "\n",
    "# Example usage for getAllReservesTokens which requires no parameters\n",
    "assets = aave_client.get_protocol_data(\"getAllReservesTokens\")\n",
    "print(assets)\n",
    "\n",
    "# Example usage for getReserveConfigurationData which requires an asset address parameter\n",
    "#result = aave_client.get_protocol_data(\"getReserveConfigurationData\", asset_address)\n",
    "#print(result)\n",
    "\n",
    "# Example usage for getUserReserveData which requires asset and user address parameters\n",
    "#result = aave_client.get_protocol_data(\"getUserReserveData\", asset_address, user_address)\n",
    "#print(result)"
   ]
  },
  {
   "cell_type": "code",
   "execution_count": 7,
   "metadata": {},
   "outputs": [
    {
     "data": {
      "text/html": [
       "<div>\n",
       "<style scoped>\n",
       "    .dataframe tbody tr th:only-of-type {\n",
       "        vertical-align: middle;\n",
       "    }\n",
       "\n",
       "    .dataframe tbody tr th {\n",
       "        vertical-align: top;\n",
       "    }\n",
       "\n",
       "    .dataframe thead th {\n",
       "        text-align: right;\n",
       "    }\n",
       "</style>\n",
       "<table border=\"1\" class=\"dataframe\">\n",
       "  <thead>\n",
       "    <tr style=\"text-align: right;\">\n",
       "      <th></th>\n",
       "      <th>symbol</th>\n",
       "      <th>currentLiquidityRate</th>\n",
       "      <th>currentVariableBorrowRate</th>\n",
       "      <th>lastUpdateTimestamp</th>\n",
       "    </tr>\n",
       "  </thead>\n",
       "  <tbody>\n",
       "    <tr>\n",
       "      <th>0xDA10009cBd5D07dd0CeCc66161FC93D7c9000da1</th>\n",
       "      <td>DAI</td>\n",
       "      <td>9.186076</td>\n",
       "      <td>13.983716</td>\n",
       "      <td>2024-06-05 13:53:59</td>\n",
       "    </tr>\n",
       "    <tr>\n",
       "      <th>0xFF970A61A04b1cA14834A43f5dE4533eBDDB5CC8</th>\n",
       "      <td>USDC</td>\n",
       "      <td>7.496155</td>\n",
       "      <td>14.919508</td>\n",
       "      <td>2024-06-05 13:56:12</td>\n",
       "    </tr>\n",
       "    <tr>\n",
       "      <th>0xFd086bC7CD5C481DCC9C85ebE478A1C0b69FCbb9</th>\n",
       "      <td>USDT</td>\n",
       "      <td>13.293633</td>\n",
       "      <td>16.641881</td>\n",
       "      <td>2024-06-05 13:57:24</td>\n",
       "    </tr>\n",
       "    <tr>\n",
       "      <th>0xaf88d065e77c8cC2239327C5EDb3A432268e5831</th>\n",
       "      <td>USDC</td>\n",
       "      <td>17.005360</td>\n",
       "      <td>20.554465</td>\n",
       "      <td>2024-06-05 13:57:56</td>\n",
       "    </tr>\n",
       "  </tbody>\n",
       "</table>\n",
       "</div>"
      ],
      "text/plain": [
       "                                           symbol  currentLiquidityRate  \\\n",
       "0xDA10009cBd5D07dd0CeCc66161FC93D7c9000da1    DAI              9.186076   \n",
       "0xFF970A61A04b1cA14834A43f5dE4533eBDDB5CC8   USDC              7.496155   \n",
       "0xFd086bC7CD5C481DCC9C85ebE478A1C0b69FCbb9   USDT             13.293633   \n",
       "0xaf88d065e77c8cC2239327C5EDb3A432268e5831   USDC             17.005360   \n",
       "\n",
       "                                            currentVariableBorrowRate  \\\n",
       "0xDA10009cBd5D07dd0CeCc66161FC93D7c9000da1                  13.983716   \n",
       "0xFF970A61A04b1cA14834A43f5dE4533eBDDB5CC8                  14.919508   \n",
       "0xFd086bC7CD5C481DCC9C85ebE478A1C0b69FCbb9                  16.641881   \n",
       "0xaf88d065e77c8cC2239327C5EDb3A432268e5831                  20.554465   \n",
       "\n",
       "                                           lastUpdateTimestamp  \n",
       "0xDA10009cBd5D07dd0CeCc66161FC93D7c9000da1 2024-06-05 13:53:59  \n",
       "0xFF970A61A04b1cA14834A43f5dE4533eBDDB5CC8 2024-06-05 13:56:12  \n",
       "0xFd086bC7CD5C481DCC9C85ebE478A1C0b69FCbb9 2024-06-05 13:57:24  \n",
       "0xaf88d065e77c8cC2239327C5EDb3A432268e5831 2024-06-05 13:57:56  "
      ]
     },
     "execution_count": 7,
     "metadata": {},
     "output_type": "execute_result"
    }
   ],
   "source": [
    "''' ----------------- Call pool functions ----------------- '''\n",
    "#assets = [('DAI', '0x8f3Cf7ad23Cd3CaDbD9735AFf958023239c6A063'), ('LINK', '0x53E0bca35eC356BD5ddDFebbD1Fc0fD03FaBad39'), ('USDC', '0x2791Bca1f2de4661ED88A30C99A7a9449Aa84174'), ('WBTC', '0x1BFD67037B42Cf73acF2047067bd4F2C47D9BfD6'), ('WETH', '0x7ceB23fD6bC0adD59E62ac25578270cFf1b9f619'), ('USDT', '0xc2132D05D31c914a87C6611C10748AEb04B58e8F'), ('AAVE', '0xD6DF932A45C0f255f85145f286eA0b292B21C90B'), ('WMATIC', '0x0d500B1d8E8eF31E21C99d1Db9A6444d3ADf1270'), ('CRV', '0x172370d5Cd63279eFa6d502DAB29171933a610AF'), ('SUSHI', '0x0b3F868E0BE5597D5DB7fEB59E1CADBb0fdDa50a'), ('GHST', '0x385Eeac5cB85A38A9a07A70c73e0a3271CfB54A7'), ('BAL', '0x9a71012B13CA4d3D0Cdc72A177DF3ef03b0E76A3'), ('DPI', '0x85955046DF4668e1DD369D2DE9f3AEB98DD2A369'), ('EURS', '0xE111178A87A3BFf0c8d18DECBa5798827539Ae99'), ('jEUR', '0x4e3Decbb3645551B8A19f0eA1678079FCB33fB4c'), ('EURA', '0xE0B52e49357Fd4DAf2c15e02058DCE6BC0057db4'), ('miMATIC', '0xa3Fa99A148fA48D14Ed51d610c367C61876997F1'), ('stMATIC', '0x3A58a54C066FdC0f2D55FC9C89F0415C92eBf3C4'), ('MaticX', '0xfa68FB4628DFF1028CFEc22b4162FCcd0d45efb6'), ('wstETH', '0x03b54A6e9a984069379fae1a4fC4dBAE93B3bCCD'), ('USDC', '0x3c499c542cEF5E3811e1192ce70d8cC03d5c3359')]\n",
    "assets_symbols = ['DAI', 'USDC', 'USDT']\n",
    "user_address = os.getenv('WALLET_ADDRESS')\n",
    "\n",
    "filtered_assets = [asset for asset in assets if asset[0] in assets_symbols]\n",
    "\n",
    "df = pd.DataFrame(columns=['symbol', 'currentLiquidityRate', 'currentVariableBorrowRate', 'lastUpdateTimestamp'])\n",
    "\n",
    "# Iterate over the filtered assets and call the desired functions\n",
    "for symbol, asset_address in filtered_assets:\n",
    "    # Call getReserveData for each asset\n",
    "    reserve_data = aave_client.get_pool_data(lending_pool, \"getReserveData\", asset_address)\n",
    "    # Extract the required data\n",
    "    current_liquidity_rate = reserve_data['currentLiquidityRate'] * 100\n",
    "    current_variable_borrow_rate = reserve_data['currentVariableBorrowRate'] * 100\n",
    "    last_update_timestamp = pd.to_datetime(reserve_data['lastUpdateTimestamp'], unit='s')\n",
    "    \n",
    "    # Append the data to the DataFrame\n",
    "    df.loc[asset_address] = [symbol, current_liquidity_rate, current_variable_borrow_rate, last_update_timestamp]\n",
    "\n",
    "df"
   ]
  },
  {
   "cell_type": "code",
   "execution_count": 8,
   "metadata": {},
   "outputs": [
    {
     "data": {
      "text/plain": [
       "3.02164422101427"
      ]
     },
     "execution_count": 8,
     "metadata": {},
     "output_type": "execute_result"
    }
   ],
   "source": [
    "''' ----------------- Spread between largest supply rate and smallest borrow rate ----------------- '''\n",
    "spread = df['currentLiquidityRate'].max() - df['currentVariableBorrowRate'].min()\n",
    "spread"
   ]
  },
  {
   "cell_type": "code",
   "execution_count": 9,
   "metadata": {},
   "outputs": [
    {
     "name": "stdout",
     "output_type": "stream",
     "text": [
      "number_of_loops:  3\n",
      "total_collateral 270.9999999999999 leverage 2.709999999999999\n"
     ]
    }
   ],
   "source": [
    "'''\n",
    "Maximum leverage with x LTV if we borrow until the borrowing amount becomes less than 10% of the initial capital\n",
    "\n",
    "Bn < 0.1 * C0\n",
    "0.9^n < 0.1\n",
    "n>21.85\n",
    "hence 22 loops\n",
    "'''\n",
    "LTV = 0.7\n",
    "initial_collateral = 100 # e.g. $100\n",
    "stop_condition = 0.4\n",
    "\n",
    "number_of_loops = math.ceil(math.log(stop_condition) / math.log(LTV))\n",
    "print(\"number_of_loops: \", number_of_loops)\n",
    "\n",
    "#total_collateral = 1000 * (1 / (1-0.9))\n",
    "total_collateral = initial_collateral * ((1 - 0.9**number_of_loops) / 0.1)\n",
    "leverage = total_collateral / initial_collateral\n",
    "\n",
    "print(\"total_collateral\", total_collateral, \"leverage\", leverage)"
   ]
  },
  {
   "cell_type": "code",
   "execution_count": 10,
   "metadata": {},
   "outputs": [
    {
     "data": {
      "text/plain": [
       "22.172371721215658"
      ]
     },
     "execution_count": 10,
     "metadata": {},
     "output_type": "execute_result"
    }
   ],
   "source": [
    "''' ------------------------ Final APY ------------------'''\n",
    "apy = ( df['currentLiquidityRate'].max() * initial_collateral + (total_collateral - initial_collateral) * spread ) / initial_collateral\n",
    "apy"
   ]
  },
  {
   "cell_type": "code",
   "execution_count": 11,
   "metadata": {},
   "outputs": [
    {
     "name": "stdout",
     "output_type": "stream",
     "text": [
      "{'totalCollateralBase': 0.0, 'totalDebtBase': 0.0, 'availableBorrowsBase': 0.0, 'currentLiquidationThreshold': 0, 'ltv': 0, 'healthFactor': 115792089237316195423570985008687907853269984665640564039457584007913129639935}\n"
     ]
    }
   ],
   "source": [
    "# user account data across the pools \n",
    "user_account_data = aave_client.get_pool_data(lending_pool, \"getUserAccountData\", user_address)\n",
    "print(user_account_data)\n",
    "total_supply = user_account_data['totalCollateralBase']\n",
    "total_borrow = user_account_data['totalDebtBase']"
   ]
  },
  {
   "cell_type": "code",
   "execution_count": 12,
   "metadata": {},
   "outputs": [
    {
     "name": "stdout",
     "output_type": "stream",
     "text": [
      "User reserve data: (0,)\n"
     ]
    }
   ],
   "source": [
    "# Call getUserReserveData \n",
    "user_reserve_data = aave_client.get_pool_data(lending_pool, \"getUserConfiguration\", user_address)\n",
    "print(f\"User reserve data: {user_reserve_data}\")"
   ]
  },
  {
   "cell_type": "code",
   "execution_count": 13,
   "metadata": {},
   "outputs": [],
   "source": [
    "reserves_assets_list = aave_client.get_pool_data(lending_pool, \"getReservesList\")\n"
   ]
  },
  {
   "cell_type": "code",
   "execution_count": 14,
   "metadata": {},
   "outputs": [],
   "source": [
    "# Call getUserReserveData\n",
    "user_reserve_data = aave_client.get_pool_data(lending_pool, \"getUserConfiguration\", user_address)\n",
    "\n",
    "def interpret_user_reserve_data(user_reserve_data):\n",
    "    # Extract the relevant value from the tuple\n",
    "    user_reserve_value = user_reserve_data[0]\n",
    "\n",
    "    # Convert the user_reserve_value to binary representation\n",
    "    binary_data = bin(user_reserve_value)[2:]\n",
    "\n",
    "    # Pad the binary data with leading zeros to ensure it has a length of 32 bits\n",
    "    binary_data = binary_data.zfill(32)\n",
    "\n",
    "    # Split the binary data into pairs of bits\n",
    "    bit_pairs = [binary_data[i:i+2] for i in range(0, len(binary_data), 2)]\n",
    "\n",
    "    # Initialize empty lists to store the indices of borrowed and collateral assets\n",
    "    borrowed_indices = []\n",
    "    collateral_indices = []\n",
    "\n",
    "    # Iterate over the bit pairs, starting from the right\n",
    "    for i in range(len(bit_pairs)-1, -1, -1):\n",
    "        pair = bit_pairs[i]\n",
    "        asset_index = len(bit_pairs) - i - 1\n",
    "\n",
    "        if pair == \"01\":\n",
    "            borrowed_indices.append(asset_index)\n",
    "        elif pair == \"11\":\n",
    "            collateral_indices.append(asset_index)\n",
    "            borrowed_indices.append(asset_index)\n",
    "        elif pair == \"10\":\n",
    "            collateral_indices.append(asset_index)\n",
    "\n",
    "    return borrowed_indices, collateral_indices\n",
    "\n",
    "borrowed_indices, collateral_indices = interpret_user_reserve_data(user_reserve_data)"
   ]
  },
  {
   "cell_type": "code",
   "execution_count": 15,
   "metadata": {},
   "outputs": [
    {
     "ename": "IndexError",
     "evalue": "list index out of range",
     "output_type": "error",
     "traceback": [
      "\u001b[0;31m---------------------------------------------------------------------------\u001b[0m",
      "\u001b[0;31mIndexError\u001b[0m                                Traceback (most recent call last)",
      "\u001b[1;32m/Users/cleme/cleyfe/Aave_Functions/testing/client_testing.ipynb Cell 15\u001b[0m line \u001b[0;36m8\n\u001b[1;32m      <a href='vscode-notebook-cell:/Users/cleme/cleyfe/Aave_Functions/testing/client_testing.ipynb#X32sZmlsZQ%3D%3D?line=4'>5</a>\u001b[0m \u001b[39mif\u001b[39;00m \u001b[39mlen\u001b[39m(collateral_indices) \u001b[39m>\u001b[39m \u001b[39m1\u001b[39m:\n\u001b[1;32m      <a href='vscode-notebook-cell:/Users/cleme/cleyfe/Aave_Functions/testing/client_testing.ipynb#X32sZmlsZQ%3D%3D?line=5'>6</a>\u001b[0m     \u001b[39mprint\u001b[39m(\u001b[39m\"\u001b[39m\u001b[39mMore than 1 asset are being used as collateral\u001b[39m\u001b[39m\"\u001b[39m)\n\u001b[0;32m----> <a href='vscode-notebook-cell:/Users/cleme/cleyfe/Aave_Functions/testing/client_testing.ipynb#X32sZmlsZQ%3D%3D?line=7'>8</a>\u001b[0m \u001b[39mprint\u001b[39m(\u001b[39m\"\u001b[39m\u001b[39mSupplied asset is: \u001b[39m\u001b[39m\"\u001b[39m, reserves_assets_list[collateral_indices[\u001b[39m0\u001b[39;49m]])\n\u001b[1;32m      <a href='vscode-notebook-cell:/Users/cleme/cleyfe/Aave_Functions/testing/client_testing.ipynb#X32sZmlsZQ%3D%3D?line=8'>9</a>\u001b[0m \u001b[39mprint\u001b[39m(\u001b[39m\"\u001b[39m\u001b[39mBorrowed asset is: \u001b[39m\u001b[39m\"\u001b[39m, reserves_assets_list[borrowed_indices[\u001b[39m0\u001b[39m]])\n",
      "\u001b[0;31mIndexError\u001b[0m: list index out of range"
     ]
    }
   ],
   "source": [
    "# verify that borrowed and collateral assets are unique\n",
    "if len(borrowed_indices) > 1:\n",
    "    print(\"More than 1 asset are being borrowed\")\n",
    "\n",
    "if len(collateral_indices) > 1:\n",
    "    print(\"More than 1 asset are being used as collateral\")\n",
    "\n",
    "print(\"Supplied asset is: \", reserves_assets_list[collateral_indices[0]])\n",
    "print(\"Borrowed asset is: \", reserves_assets_list[borrowed_indices[0]])"
   ]
  },
  {
   "cell_type": "code",
   "execution_count": 16,
   "metadata": {},
   "outputs": [
    {
     "name": "stdout",
     "output_type": "stream",
     "text": [
      "Approving transaction to deposit 100 of USDC to Aave...\n"
     ]
    },
    {
     "ename": "KeyboardInterrupt",
     "evalue": "",
     "output_type": "error",
     "traceback": [
      "\u001b[0;31m---------------------------------------------------------------------------\u001b[0m",
      "\u001b[0;31mKeyboardInterrupt\u001b[0m                         Traceback (most recent call last)",
      "\u001b[1;32m/Users/cleme/cleyfe/Aave_Functions/testing/client_testing.ipynb Cell 16\u001b[0m line \u001b[0;36m5\n\u001b[1;32m      <a href='vscode-notebook-cell:/Users/cleme/cleyfe/Aave_Functions/testing/client_testing.ipynb#X36sZmlsZQ%3D%3D?line=1'>2</a>\u001b[0m deposit_token \u001b[39m=\u001b[39m aave_client\u001b[39m.\u001b[39mactive_network\u001b[39m.\u001b[39mUSDC\n\u001b[1;32m      <a href='vscode-notebook-cell:/Users/cleme/cleyfe/Aave_Functions/testing/client_testing.ipynb#X36sZmlsZQ%3D%3D?line=2'>3</a>\u001b[0m reserve_token \u001b[39m=\u001b[39m \u001b[39mnext\u001b[39m((token \u001b[39mfor\u001b[39;00m token \u001b[39min\u001b[39;00m aave_client\u001b[39m.\u001b[39mactive_network\u001b[39m.\u001b[39maave_tokens \u001b[39mif\u001b[39;00m token\u001b[39m.\u001b[39maddress \u001b[39m==\u001b[39m deposit_token), \u001b[39mNone\u001b[39;00m)\n\u001b[0;32m----> <a href='vscode-notebook-cell:/Users/cleme/cleyfe/Aave_Functions/testing/client_testing.ipynb#X36sZmlsZQ%3D%3D?line=4'>5</a>\u001b[0m deposit_hash \u001b[39m=\u001b[39m aave_client\u001b[39m.\u001b[39;49mdeposit(deposit_token\u001b[39m=\u001b[39;49mreserve_token, deposit_amount\u001b[39m=\u001b[39;49minitial_collateral,\n\u001b[1;32m      <a href='vscode-notebook-cell:/Users/cleme/cleyfe/Aave_Functions/testing/client_testing.ipynb#X36sZmlsZQ%3D%3D?line=5'>6</a>\u001b[0m                                         lending_pool_contract\u001b[39m=\u001b[39;49mlending_pool)\n\u001b[1;32m      <a href='vscode-notebook-cell:/Users/cleme/cleyfe/Aave_Functions/testing/client_testing.ipynb#X36sZmlsZQ%3D%3D?line=6'>7</a>\u001b[0m \u001b[39mprint\u001b[39m(\u001b[39m\"\u001b[39m\u001b[39mTransaction Hash:\u001b[39m\u001b[39m\"\u001b[39m, deposit_hash)\n",
      "File \u001b[0;32m~/cleyfe/Aave_Functions/aave_client.py:339\u001b[0m, in \u001b[0;36mAaveClient.deposit\u001b[0;34m(self, deposit_token, deposit_amount, lending_pool_contract, nonce)\u001b[0m\n\u001b[1;32m    337\u001b[0m \u001b[39mprint\u001b[39m(\u001b[39mf\u001b[39m\u001b[39m\"\u001b[39m\u001b[39mApproving transaction to deposit \u001b[39m\u001b[39m{\u001b[39;00mdeposit_amount\u001b[39m}\u001b[39;00m\u001b[39m of \u001b[39m\u001b[39m{\u001b[39;00mdeposit_token\u001b[39m.\u001b[39msymbol\u001b[39m}\u001b[39;00m\u001b[39m to Aave...\u001b[39m\u001b[39m\"\u001b[39m)\n\u001b[1;32m    338\u001b[0m \u001b[39mtry\u001b[39;00m:\n\u001b[0;32m--> 339\u001b[0m     approval_hash, approval_gas \u001b[39m=\u001b[39m \u001b[39mself\u001b[39;49m\u001b[39m.\u001b[39;49mapprove_erc20(erc20_address\u001b[39m=\u001b[39;49mdeposit_token\u001b[39m.\u001b[39;49maddress,\n\u001b[1;32m    340\u001b[0m                                                      lending_pool_contract\u001b[39m=\u001b[39;49mlending_pool_contract,\n\u001b[1;32m    341\u001b[0m                                                      amount_in_decimal_units\u001b[39m=\u001b[39;49mamount_in_decimal_units,\n\u001b[1;32m    342\u001b[0m                                                      nonce\u001b[39m=\u001b[39;49mnonce)\n\u001b[1;32m    343\u001b[0m \u001b[39mexcept\u001b[39;00m \u001b[39mException\u001b[39;00m \u001b[39mas\u001b[39;00m exc:\n\u001b[1;32m    344\u001b[0m     \u001b[39mraise\u001b[39;00m \u001b[39mUserWarning\u001b[39;00m(\u001b[39mf\u001b[39m\u001b[39m\"\u001b[39m\u001b[39mCould not approve deposit transaction - Error Code \u001b[39m\u001b[39m{\u001b[39;00mexc\u001b[39m}\u001b[39;00m\u001b[39m\"\u001b[39m)\n",
      "File \u001b[0;32m~/cleyfe/Aave_Functions/aave_client.py:213\u001b[0m, in \u001b[0;36mAaveClient.approve_erc20\u001b[0;34m(self, erc20_address, lending_pool_contract, amount_in_decimal_units, nonce)\u001b[0m\n\u001b[1;32m    211\u001b[0m erc20 \u001b[39m=\u001b[39m \u001b[39mself\u001b[39m\u001b[39m.\u001b[39mw3\u001b[39m.\u001b[39meth\u001b[39m.\u001b[39mcontract(address\u001b[39m=\u001b[39merc20_address, abi\u001b[39m=\u001b[39mABIReference\u001b[39m.\u001b[39merc20_abi)\n\u001b[1;32m    212\u001b[0m function_call \u001b[39m=\u001b[39m erc20\u001b[39m.\u001b[39mfunctions\u001b[39m.\u001b[39mapprove(lending_pool_address, amount_in_decimal_units)\n\u001b[0;32m--> 213\u001b[0m transaction \u001b[39m=\u001b[39m function_call\u001b[39m.\u001b[39;49mbuild_transaction(\n\u001b[1;32m    214\u001b[0m     {\n\u001b[1;32m    215\u001b[0m         \u001b[39m\"\u001b[39;49m\u001b[39mchainId\u001b[39;49m\u001b[39m\"\u001b[39;49m: \u001b[39mself\u001b[39;49m\u001b[39m.\u001b[39;49mactive_network\u001b[39m.\u001b[39;49mchain_id,\n\u001b[1;32m    216\u001b[0m         \u001b[39m\"\u001b[39;49m\u001b[39mfrom\u001b[39;49m\u001b[39m\"\u001b[39;49m: \u001b[39mself\u001b[39;49m\u001b[39m.\u001b[39;49mwallet_address,\n\u001b[1;32m    217\u001b[0m         \u001b[39m\"\u001b[39;49m\u001b[39mnonce\u001b[39;49m\u001b[39m\"\u001b[39;49m: nonce,\n\u001b[1;32m    218\u001b[0m     }\n\u001b[1;32m    219\u001b[0m )\n\u001b[1;32m    220\u001b[0m signed_txn \u001b[39m=\u001b[39m \u001b[39mself\u001b[39m\u001b[39m.\u001b[39mw3\u001b[39m.\u001b[39meth\u001b[39m.\u001b[39maccount\u001b[39m.\u001b[39msign_transaction(\n\u001b[1;32m    221\u001b[0m     transaction, private_key\u001b[39m=\u001b[39m\u001b[39mself\u001b[39m\u001b[39m.\u001b[39mprivate_key\n\u001b[1;32m    222\u001b[0m )\n\u001b[1;32m    223\u001b[0m tx_hash \u001b[39m=\u001b[39m \u001b[39mself\u001b[39m\u001b[39m.\u001b[39mw3\u001b[39m.\u001b[39meth\u001b[39m.\u001b[39msend_raw_transaction(signed_txn\u001b[39m.\u001b[39mrawTransaction)\n",
      "File \u001b[0;32m~/cleyfe/Aave_Functions/aave_functions/lib/python3.9/site-packages/web3/contract/contract.py:356\u001b[0m, in \u001b[0;36mContractFunction.build_transaction\u001b[0;34m(self, transaction)\u001b[0m\n\u001b[1;32m    354\u001b[0m \u001b[39mdef\u001b[39;00m \u001b[39mbuild_transaction\u001b[39m(\u001b[39mself\u001b[39m, transaction: Optional[TxParams] \u001b[39m=\u001b[39m \u001b[39mNone\u001b[39;00m) \u001b[39m-\u001b[39m\u001b[39m>\u001b[39m TxParams:\n\u001b[1;32m    355\u001b[0m     built_transaction \u001b[39m=\u001b[39m \u001b[39mself\u001b[39m\u001b[39m.\u001b[39m_build_transaction(transaction)\n\u001b[0;32m--> 356\u001b[0m     \u001b[39mreturn\u001b[39;00m build_transaction_for_function(\n\u001b[1;32m    357\u001b[0m         \u001b[39mself\u001b[39;49m\u001b[39m.\u001b[39;49maddress,\n\u001b[1;32m    358\u001b[0m         \u001b[39mself\u001b[39;49m\u001b[39m.\u001b[39;49mw3,\n\u001b[1;32m    359\u001b[0m         \u001b[39mself\u001b[39;49m\u001b[39m.\u001b[39;49mfunction_identifier,\n\u001b[1;32m    360\u001b[0m         built_transaction,\n\u001b[1;32m    361\u001b[0m         \u001b[39mself\u001b[39;49m\u001b[39m.\u001b[39;49mcontract_abi,\n\u001b[1;32m    362\u001b[0m         \u001b[39mself\u001b[39;49m\u001b[39m.\u001b[39;49mabi,\n\u001b[1;32m    363\u001b[0m         \u001b[39m*\u001b[39;49m\u001b[39mself\u001b[39;49m\u001b[39m.\u001b[39;49margs,\n\u001b[1;32m    364\u001b[0m         \u001b[39m*\u001b[39;49m\u001b[39m*\u001b[39;49m\u001b[39mself\u001b[39;49m\u001b[39m.\u001b[39;49mkwargs,\n\u001b[1;32m    365\u001b[0m     )\n",
      "File \u001b[0;32m~/cleyfe/Aave_Functions/aave_functions/lib/python3.9/site-packages/web3/contract/utils.py:233\u001b[0m, in \u001b[0;36mbuild_transaction_for_function\u001b[0;34m(address, w3, function_name, transaction, contract_abi, fn_abi, *args, **kwargs)\u001b[0m\n\u001b[1;32m    217\u001b[0m \u001b[39m\u001b[39m\u001b[39m\"\"\"Builds a dictionary with the fields required to make the given transaction\u001b[39;00m\n\u001b[1;32m    218\u001b[0m \n\u001b[1;32m    219\u001b[0m \u001b[39mDon't call this directly, instead use :meth:`Contract.build_transaction`\u001b[39;00m\n\u001b[1;32m    220\u001b[0m \u001b[39mon your contract instance.\u001b[39;00m\n\u001b[1;32m    221\u001b[0m \u001b[39m\"\"\"\u001b[39;00m\n\u001b[1;32m    222\u001b[0m prepared_transaction \u001b[39m=\u001b[39m prepare_transaction(\n\u001b[1;32m    223\u001b[0m     address,\n\u001b[1;32m    224\u001b[0m     w3,\n\u001b[0;32m   (...)\u001b[0m\n\u001b[1;32m    230\u001b[0m     fn_kwargs\u001b[39m=\u001b[39mkwargs,\n\u001b[1;32m    231\u001b[0m )\n\u001b[0;32m--> 233\u001b[0m prepared_transaction \u001b[39m=\u001b[39m fill_transaction_defaults(w3, prepared_transaction)\n\u001b[1;32m    235\u001b[0m \u001b[39mreturn\u001b[39;00m prepared_transaction\n",
      "File \u001b[0;32m~/cleyfe/Aave_Functions/aave_functions/lib/python3.9/site-packages/cytoolz/functoolz.pyx:263\u001b[0m, in \u001b[0;36mcytoolz.functoolz.curry.__call__\u001b[0;34m()\u001b[0m\n",
      "File \u001b[0;32m~/cleyfe/Aave_Functions/aave_functions/lib/python3.9/site-packages/web3/_utils/transactions.py:112\u001b[0m, in \u001b[0;36mfill_transaction_defaults\u001b[0;34m(w3, transaction)\u001b[0m\n\u001b[1;32m    107\u001b[0m \u001b[39m@curry\u001b[39m\n\u001b[1;32m    108\u001b[0m \u001b[39mdef\u001b[39;00m \u001b[39mfill_transaction_defaults\u001b[39m(w3: \u001b[39m\"\u001b[39m\u001b[39mWeb3\u001b[39m\u001b[39m\"\u001b[39m, transaction: TxParams) \u001b[39m-\u001b[39m\u001b[39m>\u001b[39m TxParams:\n\u001b[1;32m    109\u001b[0m \u001b[39m    \u001b[39m\u001b[39m\"\"\"\u001b[39;00m\n\u001b[1;32m    110\u001b[0m \u001b[39m    if w3 is None, fill as much as possible while offline\u001b[39;00m\n\u001b[1;32m    111\u001b[0m \u001b[39m    \"\"\"\u001b[39;00m\n\u001b[0;32m--> 112\u001b[0m     strategy_based_gas_price \u001b[39m=\u001b[39m w3\u001b[39m.\u001b[39;49meth\u001b[39m.\u001b[39;49mgenerate_gas_price(transaction)\n\u001b[1;32m    113\u001b[0m     is_dynamic_fee_transaction \u001b[39m=\u001b[39m strategy_based_gas_price \u001b[39mis\u001b[39;00m \u001b[39mNone\u001b[39;00m \u001b[39mand\u001b[39;00m (\n\u001b[1;32m    114\u001b[0m         \u001b[39m\"\u001b[39m\u001b[39mgasPrice\u001b[39m\u001b[39m\"\u001b[39m \u001b[39mnot\u001b[39;00m \u001b[39min\u001b[39;00m transaction  \u001b[39m# default to dynamic fee transaction\u001b[39;00m\n\u001b[1;32m    115\u001b[0m         \u001b[39mor\u001b[39;00m any_in_dict(DYNAMIC_FEE_TXN_PARAMS, transaction)\n\u001b[1;32m    116\u001b[0m     )\n\u001b[1;32m    118\u001b[0m     defaults \u001b[39m=\u001b[39m {}\n",
      "File \u001b[0;32m~/cleyfe/Aave_Functions/aave_functions/lib/python3.9/site-packages/web3/eth/base_eth.py:88\u001b[0m, in \u001b[0;36mBaseEth.generate_gas_price\u001b[0;34m(self, transaction_params)\u001b[0m\n\u001b[1;32m     84\u001b[0m \u001b[39mdef\u001b[39;00m \u001b[39mgenerate_gas_price\u001b[39m(\n\u001b[1;32m     85\u001b[0m     \u001b[39mself\u001b[39m, transaction_params: Optional[TxParams] \u001b[39m=\u001b[39m \u001b[39mNone\u001b[39;00m\n\u001b[1;32m     86\u001b[0m ) \u001b[39m-\u001b[39m\u001b[39m>\u001b[39m Optional[Wei]:\n\u001b[1;32m     87\u001b[0m     \u001b[39mif\u001b[39;00m \u001b[39mself\u001b[39m\u001b[39m.\u001b[39m_gas_price_strategy:\n\u001b[0;32m---> 88\u001b[0m         \u001b[39mreturn\u001b[39;00m \u001b[39mself\u001b[39;49m\u001b[39m.\u001b[39;49m_gas_price_strategy(\u001b[39mself\u001b[39;49m\u001b[39m.\u001b[39;49mw3, transaction_params)\n\u001b[1;32m     89\u001b[0m     \u001b[39mreturn\u001b[39;00m \u001b[39mNone\u001b[39;00m\n",
      "File \u001b[0;32m~/cleyfe/Aave_Functions/aave_functions/lib/python3.9/site-packages/web3/gas_strategies/time_based.py:232\u001b[0m, in \u001b[0;36mconstruct_time_based_gas_price_strategy.<locals>.time_based_gas_price_strategy\u001b[0;34m(w3, transaction_params)\u001b[0m\n\u001b[1;32m    229\u001b[0m raw_miner_data \u001b[39m=\u001b[39m _get_raw_miner_data(w3, sample_size\u001b[39m=\u001b[39msample_size)\n\u001b[1;32m    230\u001b[0m miner_data \u001b[39m=\u001b[39m _aggregate_miner_data(raw_miner_data)\n\u001b[0;32m--> 232\u001b[0m probabilities \u001b[39m=\u001b[39m _compute_probabilities(\n\u001b[1;32m    233\u001b[0m     miner_data,\n\u001b[1;32m    234\u001b[0m     wait_blocks\u001b[39m=\u001b[39;49mwait_blocks,\n\u001b[1;32m    235\u001b[0m     sample_size\u001b[39m=\u001b[39;49msample_size,\n\u001b[1;32m    236\u001b[0m )\n\u001b[1;32m    238\u001b[0m gas_price \u001b[39m=\u001b[39m _compute_gas_price(probabilities, probability \u001b[39m/\u001b[39m \u001b[39m100\u001b[39m)\n\u001b[1;32m    239\u001b[0m \u001b[39mreturn\u001b[39;00m gas_price\n",
      "File \u001b[0;32m~/cleyfe/Aave_Functions/aave_functions/lib/python3.9/site-packages/eth_utils/functional.py:47\u001b[0m, in \u001b[0;36mapply_to_return_value.<locals>.outer.<locals>.inner\u001b[0;34m(*args, **kwargs)\u001b[0m\n\u001b[1;32m     45\u001b[0m \u001b[39m@functools\u001b[39m\u001b[39m.\u001b[39mwraps(fn)\n\u001b[1;32m     46\u001b[0m \u001b[39mdef\u001b[39;00m \u001b[39minner\u001b[39m(\u001b[39m*\u001b[39margs, \u001b[39m*\u001b[39m\u001b[39m*\u001b[39mkwargs) \u001b[39m-\u001b[39m\u001b[39m>\u001b[39m T:  \u001b[39m# type: ignore\u001b[39;00m\n\u001b[0;32m---> 47\u001b[0m     \u001b[39mreturn\u001b[39;00m callback(fn(\u001b[39m*\u001b[39;49margs, \u001b[39m*\u001b[39;49m\u001b[39m*\u001b[39;49mkwargs))\n",
      "File \u001b[0;32m~/cleyfe/Aave_Functions/aave_functions/lib/python3.9/site-packages/web3/gas_strategies/time_based.py:133\u001b[0m, in \u001b[0;36m_compute_probabilities\u001b[0;34m(miner_data, wait_blocks, sample_size)\u001b[0m\n\u001b[1;32m    124\u001b[0m \u001b[39m@to_tuple\u001b[39m\n\u001b[1;32m    125\u001b[0m \u001b[39mdef\u001b[39;00m \u001b[39m_compute_probabilities\u001b[39m(\n\u001b[1;32m    126\u001b[0m     miner_data: Iterable[MinerData], wait_blocks: \u001b[39mint\u001b[39m, sample_size: \u001b[39mint\u001b[39m\n\u001b[1;32m    127\u001b[0m ) \u001b[39m-\u001b[39m\u001b[39m>\u001b[39m Iterable[Probability]:\n\u001b[1;32m    128\u001b[0m \u001b[39m    \u001b[39m\u001b[39m\"\"\"\u001b[39;00m\n\u001b[1;32m    129\u001b[0m \u001b[39m    Computes the probabilities that a txn will be accepted at each of the gas\u001b[39;00m\n\u001b[1;32m    130\u001b[0m \u001b[39m    prices accepted by the miners.\u001b[39;00m\n\u001b[1;32m    131\u001b[0m \u001b[39m    \"\"\"\u001b[39;00m\n\u001b[1;32m    132\u001b[0m     miner_data_by_price \u001b[39m=\u001b[39m \u001b[39mtuple\u001b[39m(\n\u001b[0;32m--> 133\u001b[0m         \u001b[39msorted\u001b[39;49m(\n\u001b[1;32m    134\u001b[0m             miner_data,\n\u001b[1;32m    135\u001b[0m             key\u001b[39m=\u001b[39;49moperator\u001b[39m.\u001b[39;49mattrgetter(\u001b[39m\"\u001b[39;49m\u001b[39mlow_percentile_gas_price\u001b[39;49m\u001b[39m\"\u001b[39;49m),\n\u001b[1;32m    136\u001b[0m             reverse\u001b[39m=\u001b[39;49m\u001b[39mTrue\u001b[39;49;00m,\n\u001b[1;32m    137\u001b[0m         )\n\u001b[1;32m    138\u001b[0m     )\n\u001b[1;32m    139\u001b[0m     \u001b[39mfor\u001b[39;00m idx \u001b[39min\u001b[39;00m \u001b[39mrange\u001b[39m(\u001b[39mlen\u001b[39m(miner_data_by_price)):\n\u001b[1;32m    140\u001b[0m         low_percentile_gas_price \u001b[39m=\u001b[39m miner_data_by_price[idx]\u001b[39m.\u001b[39mlow_percentile_gas_price\n",
      "File \u001b[0;32m~/cleyfe/Aave_Functions/aave_functions/lib/python3.9/site-packages/web3/gas_strategies/time_based.py:107\u001b[0m, in \u001b[0;36m_aggregate_miner_data\u001b[0;34m(raw_data)\u001b[0m\n\u001b[1;32m    104\u001b[0m \u001b[39mdef\u001b[39;00m \u001b[39m_aggregate_miner_data\u001b[39m(\n\u001b[1;32m    105\u001b[0m     raw_data: Iterable[Tuple[ChecksumAddress, HexBytes, Wei]]\n\u001b[1;32m    106\u001b[0m ) \u001b[39m-\u001b[39m\u001b[39m>\u001b[39m Iterable[MinerData]:\n\u001b[0;32m--> 107\u001b[0m     data_by_miner \u001b[39m=\u001b[39m groupby(\u001b[39m0\u001b[39;49m, raw_data)\n\u001b[1;32m    109\u001b[0m     \u001b[39mfor\u001b[39;00m miner, miner_data \u001b[39min\u001b[39;00m data_by_miner\u001b[39m.\u001b[39mitems():\n\u001b[1;32m    110\u001b[0m         _, block_hashes, gas_prices \u001b[39m=\u001b[39m \u001b[39mmap\u001b[39m(\u001b[39mset\u001b[39m, \u001b[39mzip\u001b[39m(\u001b[39m*\u001b[39mminer_data))\n",
      "File \u001b[0;32m~/cleyfe/Aave_Functions/aave_functions/lib/python3.9/site-packages/cytoolz/itertoolz.pyx:116\u001b[0m, in \u001b[0;36mcytoolz.itertoolz.groupby\u001b[0;34m()\u001b[0m\n",
      "File \u001b[0;32m~/cleyfe/Aave_Functions/aave_functions/lib/python3.9/site-packages/cytoolz/itertoolz.pyx:160\u001b[0m, in \u001b[0;36mcytoolz.itertoolz.groupby\u001b[0;34m()\u001b[0m\n",
      "File \u001b[0;32m~/cleyfe/Aave_Functions/aave_functions/lib/python3.9/site-packages/web3/gas_strategies/time_based.py:98\u001b[0m, in \u001b[0;36m_get_raw_miner_data\u001b[0;34m(w3, sample_size)\u001b[0m\n\u001b[1;32m     94\u001b[0m     \u001b[39mbreak\u001b[39;00m\n\u001b[1;32m     96\u001b[0m \u001b[39m# we intentionally trace backwards using parent hashes rather than\u001b[39;00m\n\u001b[1;32m     97\u001b[0m \u001b[39m# block numbers to make caching the data easier to implement.\u001b[39;00m\n\u001b[0;32m---> 98\u001b[0m block \u001b[39m=\u001b[39m w3\u001b[39m.\u001b[39;49meth\u001b[39m.\u001b[39;49mget_block(block[\u001b[39m\"\u001b[39;49m\u001b[39mparentHash\u001b[39;49m\u001b[39m\"\u001b[39;49m], full_transactions\u001b[39m=\u001b[39;49m\u001b[39mTrue\u001b[39;49;00m)\n\u001b[1;32m     99\u001b[0m \u001b[39mfor\u001b[39;00m transaction \u001b[39min\u001b[39;00m block[\u001b[39m\"\u001b[39m\u001b[39mtransactions\u001b[39m\u001b[39m\"\u001b[39m]:\n\u001b[1;32m    100\u001b[0m     \u001b[39m# type ignored b/c actual transaction is TxData not HexBytes\u001b[39;00m\n\u001b[1;32m    101\u001b[0m     \u001b[39myield\u001b[39;00m (block[\u001b[39m\"\u001b[39m\u001b[39mminer\u001b[39m\u001b[39m\"\u001b[39m], block[\u001b[39m\"\u001b[39m\u001b[39mhash\u001b[39m\u001b[39m\"\u001b[39m], transaction[\u001b[39m\"\u001b[39m\u001b[39mgasPrice\u001b[39m\u001b[39m\"\u001b[39m])\n",
      "File \u001b[0;32m~/cleyfe/Aave_Functions/aave_functions/lib/python3.9/site-packages/web3/eth/eth.py:413\u001b[0m, in \u001b[0;36mEth.get_block\u001b[0;34m(self, block_identifier, full_transactions)\u001b[0m\n\u001b[1;32m    410\u001b[0m \u001b[39mdef\u001b[39;00m \u001b[39mget_block\u001b[39m(\n\u001b[1;32m    411\u001b[0m     \u001b[39mself\u001b[39m, block_identifier: BlockIdentifier, full_transactions: \u001b[39mbool\u001b[39m \u001b[39m=\u001b[39m \u001b[39mFalse\u001b[39;00m\n\u001b[1;32m    412\u001b[0m ) \u001b[39m-\u001b[39m\u001b[39m>\u001b[39m BlockData:\n\u001b[0;32m--> 413\u001b[0m     \u001b[39mreturn\u001b[39;00m \u001b[39mself\u001b[39;49m\u001b[39m.\u001b[39;49m_get_block(block_identifier, full_transactions)\n",
      "File \u001b[0;32m~/cleyfe/Aave_Functions/aave_functions/lib/python3.9/site-packages/web3/module.py:75\u001b[0m, in \u001b[0;36mretrieve_blocking_method_call_fn.<locals>.caller\u001b[0;34m(*args, **kwargs)\u001b[0m\n\u001b[1;32m     68\u001b[0m     \u001b[39mreturn\u001b[39;00m LogFilter(eth_module\u001b[39m=\u001b[39mmodule, filter_id\u001b[39m=\u001b[39merr\u001b[39m.\u001b[39mfilter_id)\n\u001b[1;32m     70\u001b[0m (\n\u001b[1;32m     71\u001b[0m     result_formatters,\n\u001b[1;32m     72\u001b[0m     error_formatters,\n\u001b[1;32m     73\u001b[0m     null_result_formatters,\n\u001b[1;32m     74\u001b[0m ) \u001b[39m=\u001b[39m response_formatters\n\u001b[0;32m---> 75\u001b[0m result \u001b[39m=\u001b[39m w3\u001b[39m.\u001b[39;49mmanager\u001b[39m.\u001b[39;49mrequest_blocking(\n\u001b[1;32m     76\u001b[0m     method_str, params, error_formatters, null_result_formatters\n\u001b[1;32m     77\u001b[0m )\n\u001b[1;32m     78\u001b[0m \u001b[39mreturn\u001b[39;00m apply_result_formatters(result_formatters, result)\n",
      "File \u001b[0;32m~/cleyfe/Aave_Functions/aave_functions/lib/python3.9/site-packages/web3/manager.py:329\u001b[0m, in \u001b[0;36mRequestManager.request_blocking\u001b[0;34m(self, method, params, error_formatters, null_result_formatters)\u001b[0m\n\u001b[1;32m    319\u001b[0m \u001b[39mdef\u001b[39;00m \u001b[39mrequest_blocking\u001b[39m(\n\u001b[1;32m    320\u001b[0m     \u001b[39mself\u001b[39m,\n\u001b[1;32m    321\u001b[0m     method: Union[RPCEndpoint, Callable[\u001b[39m.\u001b[39m\u001b[39m.\u001b[39m\u001b[39m.\u001b[39m, RPCEndpoint]],\n\u001b[0;32m   (...)\u001b[0m\n\u001b[1;32m    324\u001b[0m     null_result_formatters: Optional[Callable[\u001b[39m.\u001b[39m\u001b[39m.\u001b[39m\u001b[39m.\u001b[39m, Any]] \u001b[39m=\u001b[39m \u001b[39mNone\u001b[39;00m,\n\u001b[1;32m    325\u001b[0m ) \u001b[39m-\u001b[39m\u001b[39m>\u001b[39m Any:\n\u001b[1;32m    326\u001b[0m \u001b[39m    \u001b[39m\u001b[39m\"\"\"\u001b[39;00m\n\u001b[1;32m    327\u001b[0m \u001b[39m    Make a synchronous request using the provider\u001b[39;00m\n\u001b[1;32m    328\u001b[0m \u001b[39m    \"\"\"\u001b[39;00m\n\u001b[0;32m--> 329\u001b[0m     response \u001b[39m=\u001b[39m \u001b[39mself\u001b[39;49m\u001b[39m.\u001b[39;49m_make_request(method, params)\n\u001b[1;32m    330\u001b[0m     \u001b[39mreturn\u001b[39;00m \u001b[39mself\u001b[39m\u001b[39m.\u001b[39mformatted_response(\n\u001b[1;32m    331\u001b[0m         response, params, error_formatters, null_result_formatters\n\u001b[1;32m    332\u001b[0m     )\n",
      "File \u001b[0;32m~/cleyfe/Aave_Functions/aave_functions/lib/python3.9/site-packages/web3/manager.py:213\u001b[0m, in \u001b[0;36mRequestManager._make_request\u001b[0;34m(self, method, params)\u001b[0m\n\u001b[1;32m    209\u001b[0m request_func \u001b[39m=\u001b[39m provider\u001b[39m.\u001b[39mrequest_func(\n\u001b[1;32m    210\u001b[0m     cast(\u001b[39m\"\u001b[39m\u001b[39mWeb3\u001b[39m\u001b[39m\"\u001b[39m, \u001b[39mself\u001b[39m\u001b[39m.\u001b[39mw3), cast(MiddlewareOnion, \u001b[39mself\u001b[39m\u001b[39m.\u001b[39mmiddleware_onion)\n\u001b[1;32m    211\u001b[0m )\n\u001b[1;32m    212\u001b[0m \u001b[39mself\u001b[39m\u001b[39m.\u001b[39mlogger\u001b[39m.\u001b[39mdebug(\u001b[39mf\u001b[39m\u001b[39m\"\u001b[39m\u001b[39mMaking request. Method: \u001b[39m\u001b[39m{\u001b[39;00mmethod\u001b[39m}\u001b[39;00m\u001b[39m\"\u001b[39m)\n\u001b[0;32m--> 213\u001b[0m \u001b[39mreturn\u001b[39;00m request_func(method, params)\n",
      "File \u001b[0;32m~/cleyfe/Aave_Functions/aave_functions/lib/python3.9/site-packages/web3/middleware/gas_price_strategy.py:101\u001b[0m, in \u001b[0;36mgas_price_strategy_middleware.<locals>.middleware\u001b[0;34m(method, params)\u001b[0m\n\u001b[1;32m     97\u001b[0m     transaction \u001b[39m=\u001b[39m validate_transaction_params(\n\u001b[1;32m     98\u001b[0m         transaction, latest_block, generated_gas_price\n\u001b[1;32m     99\u001b[0m     )\n\u001b[1;32m    100\u001b[0m     \u001b[39mreturn\u001b[39;00m make_request(method, (transaction,))\n\u001b[0;32m--> 101\u001b[0m \u001b[39mreturn\u001b[39;00m make_request(method, params)\n",
      "File \u001b[0;32m~/cleyfe/Aave_Functions/aave_functions/lib/python3.9/site-packages/web3/middleware/formatting.py:126\u001b[0m, in \u001b[0;36mconstruct_web3_formatting_middleware.<locals>.formatter_middleware.<locals>.middleware\u001b[0;34m(method, params)\u001b[0m\n\u001b[1;32m    124\u001b[0m     formatter \u001b[39m=\u001b[39m request_formatters[method]\n\u001b[1;32m    125\u001b[0m     params \u001b[39m=\u001b[39m formatter(params)\n\u001b[0;32m--> 126\u001b[0m response \u001b[39m=\u001b[39m make_request(method, params)\n\u001b[1;32m    128\u001b[0m \u001b[39mreturn\u001b[39;00m _apply_response_formatters(\n\u001b[1;32m    129\u001b[0m     method,\n\u001b[1;32m    130\u001b[0m     formatters[\u001b[39m\"\u001b[39m\u001b[39mresult_formatters\u001b[39m\u001b[39m\"\u001b[39m],\n\u001b[1;32m    131\u001b[0m     formatters[\u001b[39m\"\u001b[39m\u001b[39merror_formatters\u001b[39m\u001b[39m\"\u001b[39m],\n\u001b[1;32m    132\u001b[0m     response,\n\u001b[1;32m    133\u001b[0m )\n",
      "File \u001b[0;32m~/cleyfe/Aave_Functions/aave_functions/lib/python3.9/site-packages/web3/middleware/attrdict.py:43\u001b[0m, in \u001b[0;36mattrdict_middleware.<locals>.middleware\u001b[0;34m(method, params)\u001b[0m\n\u001b[1;32m     42\u001b[0m \u001b[39mdef\u001b[39;00m \u001b[39mmiddleware\u001b[39m(method: RPCEndpoint, params: Any) \u001b[39m-\u001b[39m\u001b[39m>\u001b[39m RPCResponse:\n\u001b[0;32m---> 43\u001b[0m     response \u001b[39m=\u001b[39m make_request(method, params)\n\u001b[1;32m     45\u001b[0m     \u001b[39mif\u001b[39;00m \u001b[39m\"\u001b[39m\u001b[39mresult\u001b[39m\u001b[39m\"\u001b[39m \u001b[39min\u001b[39;00m response:\n\u001b[1;32m     46\u001b[0m         \u001b[39mreturn\u001b[39;00m assoc(\n\u001b[1;32m     47\u001b[0m             response, \u001b[39m\"\u001b[39m\u001b[39mresult\u001b[39m\u001b[39m\"\u001b[39m, AttributeDict\u001b[39m.\u001b[39mrecursive(response[\u001b[39m\"\u001b[39m\u001b[39mresult\u001b[39m\u001b[39m\"\u001b[39m])\n\u001b[1;32m     48\u001b[0m         )\n",
      "File \u001b[0;32m~/cleyfe/Aave_Functions/aave_functions/lib/python3.9/site-packages/web3/middleware/formatting.py:126\u001b[0m, in \u001b[0;36mconstruct_web3_formatting_middleware.<locals>.formatter_middleware.<locals>.middleware\u001b[0;34m(method, params)\u001b[0m\n\u001b[1;32m    124\u001b[0m     formatter \u001b[39m=\u001b[39m request_formatters[method]\n\u001b[1;32m    125\u001b[0m     params \u001b[39m=\u001b[39m formatter(params)\n\u001b[0;32m--> 126\u001b[0m response \u001b[39m=\u001b[39m make_request(method, params)\n\u001b[1;32m    128\u001b[0m \u001b[39mreturn\u001b[39;00m _apply_response_formatters(\n\u001b[1;32m    129\u001b[0m     method,\n\u001b[1;32m    130\u001b[0m     formatters[\u001b[39m\"\u001b[39m\u001b[39mresult_formatters\u001b[39m\u001b[39m\"\u001b[39m],\n\u001b[1;32m    131\u001b[0m     formatters[\u001b[39m\"\u001b[39m\u001b[39merror_formatters\u001b[39m\u001b[39m\"\u001b[39m],\n\u001b[1;32m    132\u001b[0m     response,\n\u001b[1;32m    133\u001b[0m )\n",
      "File \u001b[0;32m~/cleyfe/Aave_Functions/aave_functions/lib/python3.9/site-packages/web3/middleware/formatting.py:126\u001b[0m, in \u001b[0;36mconstruct_web3_formatting_middleware.<locals>.formatter_middleware.<locals>.middleware\u001b[0;34m(method, params)\u001b[0m\n\u001b[1;32m    124\u001b[0m     formatter \u001b[39m=\u001b[39m request_formatters[method]\n\u001b[1;32m    125\u001b[0m     params \u001b[39m=\u001b[39m formatter(params)\n\u001b[0;32m--> 126\u001b[0m response \u001b[39m=\u001b[39m make_request(method, params)\n\u001b[1;32m    128\u001b[0m \u001b[39mreturn\u001b[39;00m _apply_response_formatters(\n\u001b[1;32m    129\u001b[0m     method,\n\u001b[1;32m    130\u001b[0m     formatters[\u001b[39m\"\u001b[39m\u001b[39mresult_formatters\u001b[39m\u001b[39m\"\u001b[39m],\n\u001b[1;32m    131\u001b[0m     formatters[\u001b[39m\"\u001b[39m\u001b[39merror_formatters\u001b[39m\u001b[39m\"\u001b[39m],\n\u001b[1;32m    132\u001b[0m     response,\n\u001b[1;32m    133\u001b[0m )\n",
      "File \u001b[0;32m~/cleyfe/Aave_Functions/aave_functions/lib/python3.9/site-packages/web3/middleware/buffered_gas_estimate.py:43\u001b[0m, in \u001b[0;36mbuffered_gas_estimate_middleware.<locals>.middleware\u001b[0;34m(method, params)\u001b[0m\n\u001b[1;32m     37\u001b[0m         transaction \u001b[39m=\u001b[39m assoc(\n\u001b[1;32m     38\u001b[0m             transaction,\n\u001b[1;32m     39\u001b[0m             \u001b[39m\"\u001b[39m\u001b[39mgas\u001b[39m\u001b[39m\"\u001b[39m,\n\u001b[1;32m     40\u001b[0m             \u001b[39mhex\u001b[39m(get_buffered_gas_estimate(w3, transaction)),\n\u001b[1;32m     41\u001b[0m         )\n\u001b[1;32m     42\u001b[0m         \u001b[39mreturn\u001b[39;00m make_request(method, [transaction])\n\u001b[0;32m---> 43\u001b[0m \u001b[39mreturn\u001b[39;00m make_request(method, params)\n",
      "File \u001b[0;32m~/cleyfe/Aave_Functions/aave_functions/lib/python3.9/site-packages/web3/middleware/formatting.py:126\u001b[0m, in \u001b[0;36mconstruct_web3_formatting_middleware.<locals>.formatter_middleware.<locals>.middleware\u001b[0;34m(method, params)\u001b[0m\n\u001b[1;32m    124\u001b[0m     formatter \u001b[39m=\u001b[39m request_formatters[method]\n\u001b[1;32m    125\u001b[0m     params \u001b[39m=\u001b[39m formatter(params)\n\u001b[0;32m--> 126\u001b[0m response \u001b[39m=\u001b[39m make_request(method, params)\n\u001b[1;32m    128\u001b[0m \u001b[39mreturn\u001b[39;00m _apply_response_formatters(\n\u001b[1;32m    129\u001b[0m     method,\n\u001b[1;32m    130\u001b[0m     formatters[\u001b[39m\"\u001b[39m\u001b[39mresult_formatters\u001b[39m\u001b[39m\"\u001b[39m],\n\u001b[1;32m    131\u001b[0m     formatters[\u001b[39m\"\u001b[39m\u001b[39merror_formatters\u001b[39m\u001b[39m\"\u001b[39m],\n\u001b[1;32m    132\u001b[0m     response,\n\u001b[1;32m    133\u001b[0m )\n",
      "File \u001b[0;32m~/cleyfe/Aave_Functions/aave_functions/lib/python3.9/site-packages/web3/middleware/exception_retry_request.py:125\u001b[0m, in \u001b[0;36mexception_retry_middleware.<locals>.middleware\u001b[0;34m(method, params)\u001b[0m\n\u001b[1;32m    123\u001b[0m \u001b[39mfor\u001b[39;00m i \u001b[39min\u001b[39;00m \u001b[39mrange\u001b[39m(retries):\n\u001b[1;32m    124\u001b[0m     \u001b[39mtry\u001b[39;00m:\n\u001b[0;32m--> 125\u001b[0m         \u001b[39mreturn\u001b[39;00m make_request(method, params)\n\u001b[1;32m    126\u001b[0m     \u001b[39mexcept\u001b[39;00m \u001b[39mtuple\u001b[39m(errors):\n\u001b[1;32m    127\u001b[0m         \u001b[39mif\u001b[39;00m i \u001b[39m<\u001b[39m retries \u001b[39m-\u001b[39m \u001b[39m1\u001b[39m:\n",
      "File \u001b[0;32m~/cleyfe/Aave_Functions/aave_functions/lib/python3.9/site-packages/web3/providers/rpc.py:90\u001b[0m, in \u001b[0;36mHTTPProvider.make_request\u001b[0;34m(self, method, params)\u001b[0m\n\u001b[1;32m     86\u001b[0m \u001b[39mself\u001b[39m\u001b[39m.\u001b[39mlogger\u001b[39m.\u001b[39mdebug(\n\u001b[1;32m     87\u001b[0m     \u001b[39mf\u001b[39m\u001b[39m\"\u001b[39m\u001b[39mMaking request HTTP. URI: \u001b[39m\u001b[39m{\u001b[39;00m\u001b[39mself\u001b[39m\u001b[39m.\u001b[39mendpoint_uri\u001b[39m}\u001b[39;00m\u001b[39m, Method: \u001b[39m\u001b[39m{\u001b[39;00mmethod\u001b[39m}\u001b[39;00m\u001b[39m\"\u001b[39m\n\u001b[1;32m     88\u001b[0m )\n\u001b[1;32m     89\u001b[0m request_data \u001b[39m=\u001b[39m \u001b[39mself\u001b[39m\u001b[39m.\u001b[39mencode_rpc_request(method, params)\n\u001b[0;32m---> 90\u001b[0m raw_response \u001b[39m=\u001b[39m make_post_request(\n\u001b[1;32m     91\u001b[0m     \u001b[39mself\u001b[39;49m\u001b[39m.\u001b[39;49mendpoint_uri, request_data, \u001b[39m*\u001b[39;49m\u001b[39m*\u001b[39;49m\u001b[39mself\u001b[39;49m\u001b[39m.\u001b[39;49mget_request_kwargs()\n\u001b[1;32m     92\u001b[0m )\n\u001b[1;32m     93\u001b[0m response \u001b[39m=\u001b[39m \u001b[39mself\u001b[39m\u001b[39m.\u001b[39mdecode_rpc_response(raw_response)\n\u001b[1;32m     94\u001b[0m \u001b[39mself\u001b[39m\u001b[39m.\u001b[39mlogger\u001b[39m.\u001b[39mdebug(\n\u001b[1;32m     95\u001b[0m     \u001b[39mf\u001b[39m\u001b[39m\"\u001b[39m\u001b[39mGetting response HTTP. URI: \u001b[39m\u001b[39m{\u001b[39;00m\u001b[39mself\u001b[39m\u001b[39m.\u001b[39mendpoint_uri\u001b[39m}\u001b[39;00m\u001b[39m, \u001b[39m\u001b[39m\"\u001b[39m\n\u001b[1;32m     96\u001b[0m     \u001b[39mf\u001b[39m\u001b[39m\"\u001b[39m\u001b[39mMethod: \u001b[39m\u001b[39m{\u001b[39;00mmethod\u001b[39m}\u001b[39;00m\u001b[39m, Response: \u001b[39m\u001b[39m{\u001b[39;00mresponse\u001b[39m}\u001b[39;00m\u001b[39m\"\u001b[39m\n\u001b[1;32m     97\u001b[0m )\n",
      "File \u001b[0;32m~/cleyfe/Aave_Functions/aave_functions/lib/python3.9/site-packages/web3/_utils/request.py:114\u001b[0m, in \u001b[0;36mmake_post_request\u001b[0;34m(endpoint_uri, data, *args, **kwargs)\u001b[0m\n\u001b[1;32m    111\u001b[0m \u001b[39mdef\u001b[39;00m \u001b[39mmake_post_request\u001b[39m(\n\u001b[1;32m    112\u001b[0m     endpoint_uri: URI, data: Union[\u001b[39mbytes\u001b[39m, Dict[\u001b[39mstr\u001b[39m, Any]], \u001b[39m*\u001b[39margs: Any, \u001b[39m*\u001b[39m\u001b[39m*\u001b[39mkwargs: Any\n\u001b[1;32m    113\u001b[0m ) \u001b[39m-\u001b[39m\u001b[39m>\u001b[39m \u001b[39mbytes\u001b[39m:\n\u001b[0;32m--> 114\u001b[0m     response \u001b[39m=\u001b[39m get_response_from_post_request(endpoint_uri, data\u001b[39m=\u001b[39;49mdata, \u001b[39m*\u001b[39;49margs, \u001b[39m*\u001b[39;49m\u001b[39m*\u001b[39;49mkwargs)\n\u001b[1;32m    115\u001b[0m     response\u001b[39m.\u001b[39mraise_for_status()\n\u001b[1;32m    116\u001b[0m     \u001b[39mreturn\u001b[39;00m response\u001b[39m.\u001b[39mcontent\n",
      "File \u001b[0;32m~/cleyfe/Aave_Functions/aave_functions/lib/python3.9/site-packages/web3/_utils/request.py:107\u001b[0m, in \u001b[0;36mget_response_from_post_request\u001b[0;34m(endpoint_uri, *args, **kwargs)\u001b[0m\n\u001b[1;32m    105\u001b[0m kwargs\u001b[39m.\u001b[39msetdefault(\u001b[39m\"\u001b[39m\u001b[39mtimeout\u001b[39m\u001b[39m\"\u001b[39m, DEFAULT_TIMEOUT)\n\u001b[1;32m    106\u001b[0m session \u001b[39m=\u001b[39m cache_and_return_session(endpoint_uri)\n\u001b[0;32m--> 107\u001b[0m response \u001b[39m=\u001b[39m session\u001b[39m.\u001b[39;49mpost(endpoint_uri, \u001b[39m*\u001b[39;49margs, \u001b[39m*\u001b[39;49m\u001b[39m*\u001b[39;49mkwargs)\n\u001b[1;32m    108\u001b[0m \u001b[39mreturn\u001b[39;00m response\n",
      "File \u001b[0;32m~/cleyfe/Aave_Functions/aave_functions/lib/python3.9/site-packages/requests/sessions.py:637\u001b[0m, in \u001b[0;36mSession.post\u001b[0;34m(self, url, data, json, **kwargs)\u001b[0m\n\u001b[1;32m    626\u001b[0m \u001b[39mdef\u001b[39;00m \u001b[39mpost\u001b[39m(\u001b[39mself\u001b[39m, url, data\u001b[39m=\u001b[39m\u001b[39mNone\u001b[39;00m, json\u001b[39m=\u001b[39m\u001b[39mNone\u001b[39;00m, \u001b[39m*\u001b[39m\u001b[39m*\u001b[39mkwargs):\n\u001b[1;32m    627\u001b[0m \u001b[39m    \u001b[39m\u001b[39mr\u001b[39m\u001b[39m\"\"\"Sends a POST request. Returns :class:`Response` object.\u001b[39;00m\n\u001b[1;32m    628\u001b[0m \n\u001b[1;32m    629\u001b[0m \u001b[39m    :param url: URL for the new :class:`Request` object.\u001b[39;00m\n\u001b[0;32m   (...)\u001b[0m\n\u001b[1;32m    634\u001b[0m \u001b[39m    :rtype: requests.Response\u001b[39;00m\n\u001b[1;32m    635\u001b[0m \u001b[39m    \"\"\"\u001b[39;00m\n\u001b[0;32m--> 637\u001b[0m     \u001b[39mreturn\u001b[39;00m \u001b[39mself\u001b[39;49m\u001b[39m.\u001b[39;49mrequest(\u001b[39m\"\u001b[39;49m\u001b[39mPOST\u001b[39;49m\u001b[39m\"\u001b[39;49m, url, data\u001b[39m=\u001b[39;49mdata, json\u001b[39m=\u001b[39;49mjson, \u001b[39m*\u001b[39;49m\u001b[39m*\u001b[39;49mkwargs)\n",
      "File \u001b[0;32m~/cleyfe/Aave_Functions/aave_functions/lib/python3.9/site-packages/requests/sessions.py:589\u001b[0m, in \u001b[0;36mSession.request\u001b[0;34m(self, method, url, params, data, headers, cookies, files, auth, timeout, allow_redirects, proxies, hooks, stream, verify, cert, json)\u001b[0m\n\u001b[1;32m    584\u001b[0m send_kwargs \u001b[39m=\u001b[39m {\n\u001b[1;32m    585\u001b[0m     \u001b[39m\"\u001b[39m\u001b[39mtimeout\u001b[39m\u001b[39m\"\u001b[39m: timeout,\n\u001b[1;32m    586\u001b[0m     \u001b[39m\"\u001b[39m\u001b[39mallow_redirects\u001b[39m\u001b[39m\"\u001b[39m: allow_redirects,\n\u001b[1;32m    587\u001b[0m }\n\u001b[1;32m    588\u001b[0m send_kwargs\u001b[39m.\u001b[39mupdate(settings)\n\u001b[0;32m--> 589\u001b[0m resp \u001b[39m=\u001b[39m \u001b[39mself\u001b[39;49m\u001b[39m.\u001b[39;49msend(prep, \u001b[39m*\u001b[39;49m\u001b[39m*\u001b[39;49msend_kwargs)\n\u001b[1;32m    591\u001b[0m \u001b[39mreturn\u001b[39;00m resp\n",
      "File \u001b[0;32m~/cleyfe/Aave_Functions/aave_functions/lib/python3.9/site-packages/requests/sessions.py:703\u001b[0m, in \u001b[0;36mSession.send\u001b[0;34m(self, request, **kwargs)\u001b[0m\n\u001b[1;32m    700\u001b[0m start \u001b[39m=\u001b[39m preferred_clock()\n\u001b[1;32m    702\u001b[0m \u001b[39m# Send the request\u001b[39;00m\n\u001b[0;32m--> 703\u001b[0m r \u001b[39m=\u001b[39m adapter\u001b[39m.\u001b[39;49msend(request, \u001b[39m*\u001b[39;49m\u001b[39m*\u001b[39;49mkwargs)\n\u001b[1;32m    705\u001b[0m \u001b[39m# Total elapsed time of the request (approximately)\u001b[39;00m\n\u001b[1;32m    706\u001b[0m elapsed \u001b[39m=\u001b[39m preferred_clock() \u001b[39m-\u001b[39m start\n",
      "File \u001b[0;32m~/cleyfe/Aave_Functions/aave_functions/lib/python3.9/site-packages/requests/adapters.py:667\u001b[0m, in \u001b[0;36mHTTPAdapter.send\u001b[0;34m(self, request, stream, timeout, verify, cert, proxies)\u001b[0m\n\u001b[1;32m    664\u001b[0m     timeout \u001b[39m=\u001b[39m TimeoutSauce(connect\u001b[39m=\u001b[39mtimeout, read\u001b[39m=\u001b[39mtimeout)\n\u001b[1;32m    666\u001b[0m \u001b[39mtry\u001b[39;00m:\n\u001b[0;32m--> 667\u001b[0m     resp \u001b[39m=\u001b[39m conn\u001b[39m.\u001b[39;49murlopen(\n\u001b[1;32m    668\u001b[0m         method\u001b[39m=\u001b[39;49mrequest\u001b[39m.\u001b[39;49mmethod,\n\u001b[1;32m    669\u001b[0m         url\u001b[39m=\u001b[39;49murl,\n\u001b[1;32m    670\u001b[0m         body\u001b[39m=\u001b[39;49mrequest\u001b[39m.\u001b[39;49mbody,\n\u001b[1;32m    671\u001b[0m         headers\u001b[39m=\u001b[39;49mrequest\u001b[39m.\u001b[39;49mheaders,\n\u001b[1;32m    672\u001b[0m         redirect\u001b[39m=\u001b[39;49m\u001b[39mFalse\u001b[39;49;00m,\n\u001b[1;32m    673\u001b[0m         assert_same_host\u001b[39m=\u001b[39;49m\u001b[39mFalse\u001b[39;49;00m,\n\u001b[1;32m    674\u001b[0m         preload_content\u001b[39m=\u001b[39;49m\u001b[39mFalse\u001b[39;49;00m,\n\u001b[1;32m    675\u001b[0m         decode_content\u001b[39m=\u001b[39;49m\u001b[39mFalse\u001b[39;49;00m,\n\u001b[1;32m    676\u001b[0m         retries\u001b[39m=\u001b[39;49m\u001b[39mself\u001b[39;49m\u001b[39m.\u001b[39;49mmax_retries,\n\u001b[1;32m    677\u001b[0m         timeout\u001b[39m=\u001b[39;49mtimeout,\n\u001b[1;32m    678\u001b[0m         chunked\u001b[39m=\u001b[39;49mchunked,\n\u001b[1;32m    679\u001b[0m     )\n\u001b[1;32m    681\u001b[0m \u001b[39mexcept\u001b[39;00m (ProtocolError, \u001b[39mOSError\u001b[39;00m) \u001b[39mas\u001b[39;00m err:\n\u001b[1;32m    682\u001b[0m     \u001b[39mraise\u001b[39;00m \u001b[39mConnectionError\u001b[39;00m(err, request\u001b[39m=\u001b[39mrequest)\n",
      "File \u001b[0;32m~/cleyfe/Aave_Functions/aave_functions/lib/python3.9/site-packages/urllib3/connectionpool.py:793\u001b[0m, in \u001b[0;36mHTTPConnectionPool.urlopen\u001b[0;34m(self, method, url, body, headers, retries, redirect, assert_same_host, timeout, pool_timeout, release_conn, chunked, body_pos, preload_content, decode_content, **response_kw)\u001b[0m\n\u001b[1;32m    790\u001b[0m response_conn \u001b[39m=\u001b[39m conn \u001b[39mif\u001b[39;00m \u001b[39mnot\u001b[39;00m release_conn \u001b[39melse\u001b[39;00m \u001b[39mNone\u001b[39;00m\n\u001b[1;32m    792\u001b[0m \u001b[39m# Make the request on the HTTPConnection object\u001b[39;00m\n\u001b[0;32m--> 793\u001b[0m response \u001b[39m=\u001b[39m \u001b[39mself\u001b[39;49m\u001b[39m.\u001b[39;49m_make_request(\n\u001b[1;32m    794\u001b[0m     conn,\n\u001b[1;32m    795\u001b[0m     method,\n\u001b[1;32m    796\u001b[0m     url,\n\u001b[1;32m    797\u001b[0m     timeout\u001b[39m=\u001b[39;49mtimeout_obj,\n\u001b[1;32m    798\u001b[0m     body\u001b[39m=\u001b[39;49mbody,\n\u001b[1;32m    799\u001b[0m     headers\u001b[39m=\u001b[39;49mheaders,\n\u001b[1;32m    800\u001b[0m     chunked\u001b[39m=\u001b[39;49mchunked,\n\u001b[1;32m    801\u001b[0m     retries\u001b[39m=\u001b[39;49mretries,\n\u001b[1;32m    802\u001b[0m     response_conn\u001b[39m=\u001b[39;49mresponse_conn,\n\u001b[1;32m    803\u001b[0m     preload_content\u001b[39m=\u001b[39;49mpreload_content,\n\u001b[1;32m    804\u001b[0m     decode_content\u001b[39m=\u001b[39;49mdecode_content,\n\u001b[1;32m    805\u001b[0m     \u001b[39m*\u001b[39;49m\u001b[39m*\u001b[39;49mresponse_kw,\n\u001b[1;32m    806\u001b[0m )\n\u001b[1;32m    808\u001b[0m \u001b[39m# Everything went great!\u001b[39;00m\n\u001b[1;32m    809\u001b[0m clean_exit \u001b[39m=\u001b[39m \u001b[39mTrue\u001b[39;00m\n",
      "File \u001b[0;32m~/cleyfe/Aave_Functions/aave_functions/lib/python3.9/site-packages/urllib3/connectionpool.py:537\u001b[0m, in \u001b[0;36mHTTPConnectionPool._make_request\u001b[0;34m(self, conn, method, url, body, headers, retries, timeout, chunked, response_conn, preload_content, decode_content, enforce_content_length)\u001b[0m\n\u001b[1;32m    535\u001b[0m \u001b[39m# Receive the response from the server\u001b[39;00m\n\u001b[1;32m    536\u001b[0m \u001b[39mtry\u001b[39;00m:\n\u001b[0;32m--> 537\u001b[0m     response \u001b[39m=\u001b[39m conn\u001b[39m.\u001b[39;49mgetresponse()\n\u001b[1;32m    538\u001b[0m \u001b[39mexcept\u001b[39;00m (BaseSSLError, \u001b[39mOSError\u001b[39;00m) \u001b[39mas\u001b[39;00m e:\n\u001b[1;32m    539\u001b[0m     \u001b[39mself\u001b[39m\u001b[39m.\u001b[39m_raise_timeout(err\u001b[39m=\u001b[39me, url\u001b[39m=\u001b[39murl, timeout_value\u001b[39m=\u001b[39mread_timeout)\n",
      "File \u001b[0;32m~/cleyfe/Aave_Functions/aave_functions/lib/python3.9/site-packages/urllib3/connection.py:466\u001b[0m, in \u001b[0;36mHTTPConnection.getresponse\u001b[0;34m(self)\u001b[0m\n\u001b[1;32m    463\u001b[0m \u001b[39mfrom\u001b[39;00m \u001b[39m.\u001b[39;00m\u001b[39mresponse\u001b[39;00m \u001b[39mimport\u001b[39;00m HTTPResponse\n\u001b[1;32m    465\u001b[0m \u001b[39m# Get the response from http.client.HTTPConnection\u001b[39;00m\n\u001b[0;32m--> 466\u001b[0m httplib_response \u001b[39m=\u001b[39m \u001b[39msuper\u001b[39;49m()\u001b[39m.\u001b[39;49mgetresponse()\n\u001b[1;32m    468\u001b[0m \u001b[39mtry\u001b[39;00m:\n\u001b[1;32m    469\u001b[0m     assert_header_parsing(httplib_response\u001b[39m.\u001b[39mmsg)\n",
      "File \u001b[0;32m/Library/Developer/CommandLineTools/Library/Frameworks/Python3.framework/Versions/3.9/lib/python3.9/http/client.py:1349\u001b[0m, in \u001b[0;36mHTTPConnection.getresponse\u001b[0;34m(self)\u001b[0m\n\u001b[1;32m   1347\u001b[0m \u001b[39mtry\u001b[39;00m:\n\u001b[1;32m   1348\u001b[0m     \u001b[39mtry\u001b[39;00m:\n\u001b[0;32m-> 1349\u001b[0m         response\u001b[39m.\u001b[39;49mbegin()\n\u001b[1;32m   1350\u001b[0m     \u001b[39mexcept\u001b[39;00m \u001b[39mConnectionError\u001b[39;00m:\n\u001b[1;32m   1351\u001b[0m         \u001b[39mself\u001b[39m\u001b[39m.\u001b[39mclose()\n",
      "File \u001b[0;32m/Library/Developer/CommandLineTools/Library/Frameworks/Python3.framework/Versions/3.9/lib/python3.9/http/client.py:316\u001b[0m, in \u001b[0;36mHTTPResponse.begin\u001b[0;34m(self)\u001b[0m\n\u001b[1;32m    314\u001b[0m \u001b[39m# read until we get a non-100 response\u001b[39;00m\n\u001b[1;32m    315\u001b[0m \u001b[39mwhile\u001b[39;00m \u001b[39mTrue\u001b[39;00m:\n\u001b[0;32m--> 316\u001b[0m     version, status, reason \u001b[39m=\u001b[39m \u001b[39mself\u001b[39;49m\u001b[39m.\u001b[39;49m_read_status()\n\u001b[1;32m    317\u001b[0m     \u001b[39mif\u001b[39;00m status \u001b[39m!=\u001b[39m CONTINUE:\n\u001b[1;32m    318\u001b[0m         \u001b[39mbreak\u001b[39;00m\n",
      "File \u001b[0;32m/Library/Developer/CommandLineTools/Library/Frameworks/Python3.framework/Versions/3.9/lib/python3.9/http/client.py:277\u001b[0m, in \u001b[0;36mHTTPResponse._read_status\u001b[0;34m(self)\u001b[0m\n\u001b[1;32m    276\u001b[0m \u001b[39mdef\u001b[39;00m \u001b[39m_read_status\u001b[39m(\u001b[39mself\u001b[39m):\n\u001b[0;32m--> 277\u001b[0m     line \u001b[39m=\u001b[39m \u001b[39mstr\u001b[39m(\u001b[39mself\u001b[39;49m\u001b[39m.\u001b[39;49mfp\u001b[39m.\u001b[39;49mreadline(_MAXLINE \u001b[39m+\u001b[39;49m \u001b[39m1\u001b[39;49m), \u001b[39m\"\u001b[39m\u001b[39miso-8859-1\u001b[39m\u001b[39m\"\u001b[39m)\n\u001b[1;32m    278\u001b[0m     \u001b[39mif\u001b[39;00m \u001b[39mlen\u001b[39m(line) \u001b[39m>\u001b[39m _MAXLINE:\n\u001b[1;32m    279\u001b[0m         \u001b[39mraise\u001b[39;00m LineTooLong(\u001b[39m\"\u001b[39m\u001b[39mstatus line\u001b[39m\u001b[39m\"\u001b[39m)\n",
      "File \u001b[0;32m/Library/Developer/CommandLineTools/Library/Frameworks/Python3.framework/Versions/3.9/lib/python3.9/socket.py:704\u001b[0m, in \u001b[0;36mSocketIO.readinto\u001b[0;34m(self, b)\u001b[0m\n\u001b[1;32m    702\u001b[0m \u001b[39mwhile\u001b[39;00m \u001b[39mTrue\u001b[39;00m:\n\u001b[1;32m    703\u001b[0m     \u001b[39mtry\u001b[39;00m:\n\u001b[0;32m--> 704\u001b[0m         \u001b[39mreturn\u001b[39;00m \u001b[39mself\u001b[39;49m\u001b[39m.\u001b[39;49m_sock\u001b[39m.\u001b[39;49mrecv_into(b)\n\u001b[1;32m    705\u001b[0m     \u001b[39mexcept\u001b[39;00m timeout:\n\u001b[1;32m    706\u001b[0m         \u001b[39mself\u001b[39m\u001b[39m.\u001b[39m_timeout_occurred \u001b[39m=\u001b[39m \u001b[39mTrue\u001b[39;00m\n",
      "File \u001b[0;32m/Library/Developer/CommandLineTools/Library/Frameworks/Python3.framework/Versions/3.9/lib/python3.9/ssl.py:1241\u001b[0m, in \u001b[0;36mSSLSocket.recv_into\u001b[0;34m(self, buffer, nbytes, flags)\u001b[0m\n\u001b[1;32m   1237\u001b[0m     \u001b[39mif\u001b[39;00m flags \u001b[39m!=\u001b[39m \u001b[39m0\u001b[39m:\n\u001b[1;32m   1238\u001b[0m         \u001b[39mraise\u001b[39;00m \u001b[39mValueError\u001b[39;00m(\n\u001b[1;32m   1239\u001b[0m           \u001b[39m\"\u001b[39m\u001b[39mnon-zero flags not allowed in calls to recv_into() on \u001b[39m\u001b[39m%s\u001b[39;00m\u001b[39m\"\u001b[39m \u001b[39m%\u001b[39m\n\u001b[1;32m   1240\u001b[0m           \u001b[39mself\u001b[39m\u001b[39m.\u001b[39m\u001b[39m__class__\u001b[39m)\n\u001b[0;32m-> 1241\u001b[0m     \u001b[39mreturn\u001b[39;00m \u001b[39mself\u001b[39;49m\u001b[39m.\u001b[39;49mread(nbytes, buffer)\n\u001b[1;32m   1242\u001b[0m \u001b[39melse\u001b[39;00m:\n\u001b[1;32m   1243\u001b[0m     \u001b[39mreturn\u001b[39;00m \u001b[39msuper\u001b[39m()\u001b[39m.\u001b[39mrecv_into(buffer, nbytes, flags)\n",
      "File \u001b[0;32m/Library/Developer/CommandLineTools/Library/Frameworks/Python3.framework/Versions/3.9/lib/python3.9/ssl.py:1099\u001b[0m, in \u001b[0;36mSSLSocket.read\u001b[0;34m(self, len, buffer)\u001b[0m\n\u001b[1;32m   1097\u001b[0m \u001b[39mtry\u001b[39;00m:\n\u001b[1;32m   1098\u001b[0m     \u001b[39mif\u001b[39;00m buffer \u001b[39mis\u001b[39;00m \u001b[39mnot\u001b[39;00m \u001b[39mNone\u001b[39;00m:\n\u001b[0;32m-> 1099\u001b[0m         \u001b[39mreturn\u001b[39;00m \u001b[39mself\u001b[39;49m\u001b[39m.\u001b[39;49m_sslobj\u001b[39m.\u001b[39;49mread(\u001b[39mlen\u001b[39;49m, buffer)\n\u001b[1;32m   1100\u001b[0m     \u001b[39melse\u001b[39;00m:\n\u001b[1;32m   1101\u001b[0m         \u001b[39mreturn\u001b[39;00m \u001b[39mself\u001b[39m\u001b[39m.\u001b[39m_sslobj\u001b[39m.\u001b[39mread(\u001b[39mlen\u001b[39m)\n",
      "\u001b[0;31mKeyboardInterrupt\u001b[0m: "
     ]
    }
   ],
   "source": [
    "\"\"\"Deposit tokens\"\"\"\n",
    "deposit_token = aave_client.active_network.USDC\n",
    "reserve_token = next((token for token in aave_client.active_network.aave_tokens if token.address == deposit_token), None)\n",
    "\n",
    "deposit_hash = aave_client.deposit(deposit_token=reserve_token, deposit_amount=initial_collateral,\n",
    "                                        lending_pool_contract=lending_pool)\n",
    "print(\"Transaction Hash:\", deposit_hash)"
   ]
  },
  {
   "cell_type": "code",
   "execution_count": 16,
   "metadata": {},
   "outputs": [
    {
     "name": "stdout",
     "output_type": "stream",
     "text": [
      "Supplied asset address is 0xDA10009cBd5D07dd0CeCc66161FC93D7c9000da1 for a total of 99.97062788 $.\n"
     ]
    }
   ],
   "source": [
    "print(\"Supplied asset address is\", reserves_assets_list[collateral_indices[0]], \"for a total of\", total_supply, \"$.\")"
   ]
  },
  {
   "cell_type": "code",
   "execution_count": 24,
   "metadata": {},
   "outputs": [
    {
     "name": "stdout",
     "output_type": "stream",
     "text": [
      "Approving transaction to withdraw 99.999396 of USDC from Aave...\n",
      "Approved 99999395 of 0xaf88d065e77c8cC2239327C5EDb3A432268e5831 for contract 0x794a61358D6845594F94dc1DB02A252b5b4814aD\n",
      "Withdrawing 99.99939599 of USDC from Aave...\n",
      "Awaiting transaction receipt for transaction hash: 0x749452d787eaccf0a38899bcf18fb48c40bdb7fcee13c9a475c726bda4b384ae (timeout = 300 seconds)\n",
      "Successfully withdrew 99.999396 of USDC from Aave\n",
      "AaveTrade Object: AaveTrade(hash='0x749452d787eaccf0a38899bcf18fb48c40bdb7fcee13c9a475c726bda4b384ae', timestamp=1717578725, datetime='2024-06-05 11:12:05', contract_address=None, from_address='0x64b27E5b4cB9f4D6743Ea074de813f1401e36a5f', to_address='0x794a61358D6845594F94dc1DB02A252b5b4814aD', gas_price=Decimal('0.00000541697'), asset_symbol='USDC', asset_address='0xaf88d065e77c8cC2239327C5EDb3A432268e5831', asset_amount=99.99939599, asset_amount_decimal_units=99999395, interest_rate_mode=None, operation='Withdraw')\n"
     ]
    }
   ],
   "source": [
    "\"\"\"withdraw tokens\"\"\"\n",
    "withdraw_token = reserves_assets_list[collateral_indices[0]]\n",
    "reserve_token = next((token for token in aave_client.active_network.aave_tokens if token.address == withdraw_token), None)\n",
    "withdraw_transaction_receipt = aave_client.withdraw(withdraw_token=reserve_token, withdraw_amount=total_supply,\n",
    "                                                        lending_pool_contract=lending_pool)\n",
    "print(\"AaveTrade Object:\", withdraw_transaction_receipt)\n"
   ]
  },
  {
   "cell_type": "code",
   "execution_count": 17,
   "metadata": {},
   "outputs": [
    {
     "name": "stdout",
     "output_type": "stream",
     "text": [
      "ParaSwap prices data: {'priceRoute': {'blockNumber': 218682605, 'network': 42161, 'srcToken': '0xfd086bc7cd5c481dcc9c85ebe478a1c0b69fcbb9', 'srcDecimals': 6, 'srcAmount': '98901000', 'destToken': '0xaf88d065e77c8cc2239327c5edb3a432268e5831', 'destDecimals': 6, 'destAmount': '98872236', 'bestRoute': [{'percent': 100, 'swaps': [{'srcToken': '0xfd086bc7cd5c481dcc9c85ebe478a1c0b69fcbb9', 'srcDecimals': 6, 'destToken': '0xaf88d065e77c8cc2239327c5edb3a432268e5831', 'destDecimals': 6, 'swapExchanges': [{'exchange': 'WooFiV2', 'srcAmount': '98901000', 'destAmount': '98872236', 'percent': 100, 'poolAddresses': ['0xed9e3f98bbed560e66b89aac922e29d4596a9642'], 'data': {'gasUSD': '0.199587'}}]}]}], 'gasCostUSD': '0.682184', 'gasCost': '270300', 'side': 'SELL', 'version': '5', 'contractAddress': '0xDEF171Fe48CF0115B1d80b88dc8eAB59176FEe57', 'tokenTransferProxy': '0x216b4b4ba9f3e719726886d34a177484278bfcae', 'contractMethod': 'multiSwap', 'partnerFee': 0, 'srcUSD': '98.7973517520', 'destUSD': '98.8722360000', 'partner': 'anon', 'maxImpactReached': False, 'hmac': '4b008d70c9c728898e5ed7b9f78188e22d1e0a65'}}\n",
      "Approved 98901000 of 0xFd086bC7CD5C481DCC9C85ebE478A1C0b69FCbb9 for contract 0x216B4B4Ba9F3e719726886d34a177484278Bfcae\n",
      "Approved 98901000 of 0xFd086bC7CD5C481DCC9C85ebE478A1C0b69FCbb9 for contract 0x216B4B4Ba9F3e719726886d34a177484278Bfcae\n",
      "ParaSwap transaction data: {'from': '0x64b27E5b4cB9f4D6743Ea074de813f1401e36a5f', 'to': '0xDEF171Fe48CF0115B1d80b88dc8eAB59176FEe57', 'value': '0', 'data': '0xa94e78ef0000000000000000000000000000000000000000000000000000000000000020000000000000000000000000fd086bc7cd5c481dcc9c85ebe478a1c0b69fcbb90000000000000000000000000000000000000000000000000000000005e51c080000000000000000000000000000000000000000000000000000000005e4abac0000000000000000000000000000000000000000000000000000000005e4abac000000000000000000000000000000000000000000000000000000000000000000000000000000000000000000000000000000000000000000000000000001600000000000000000000000000000000000000000000000000000000000000000010000000000000000000000000000000000000000000000000000000000400000000000000000000000000000000000000000000000000000000000000003e0000000000000000000000000000000000000000000000000000000006660c38dd68e6d6376aa4a928fd98f049d3bf6da0000000000000000000000000000000000000000000000000000000000000000000000000000000000000000000000010000000000000000000000000000000000000000000000000000000000000020000000000000000000000000af88d065e77c8cc2239327c5edb3a432268e5831000000000000000000000000000000000000000000000000000000000000000000000000000000000000000000000000000000000000000000000000000000600000000000000000000000000000000000000000000000000000000000000001000000000000000000000000000000000000000000000000000000000000002000000000000000000000000058a5f0b73969800faff8556cd2187e3fce71a6cb000000000000000000000000000000000000000000000000000000000000271000000000000000000000000000000000000000000000000000000000000000000000000000000000000000000000000000000000000000000000000000000080000000000000000000000000000000000000000000000000000000000000000100000000000000000000000000000000000000000000000000000000000000200000000000000000000000000000000000000000000000000000000000000003000000000000000000000000ed9e3f98bbed560e66b89aac922e29d4596a9642000000000000000000000000000000000000000000000000000000000000271000000000000000000000000000000000000000000000000000000000000000a000000000000000000000000000000000000000000000000000000000000000000000000000000000000000000000000000000000000000000000000000000020000000000000000000000000d5b927956057075377263aab7f8afc12f85100db0000000000000000000000000000000000000000000000000000000000000000', 'gasPrice': '112000000', 'gas': '1095917', 'chainId': 42161}\n"
     ]
    }
   ],
   "source": [
    "\"\"\"swap tokens\"\"\"\n",
    "\n",
    "def get_paraswap_prices(src_token, dest_token, src_amount, src_decimals, dest_decimals, network='42161'):\n",
    "    url = f\"https://apiv5.paraswap.io/prices\"\n",
    "    params = {\n",
    "        \"srcToken\": src_token,\n",
    "        \"destToken\": dest_token,\n",
    "        \"srcDecimals\": src_decimals,\n",
    "        \"destDecimals\": dest_decimals,\n",
    "        \"amount\": str(src_amount),\n",
    "        \"side\": \"SELL\",\n",
    "        \"network\": network,\n",
    "        \"includeDEXS\": \"true\",\n",
    "        \"excludeContractMethods\": \"simpleSwap\",\n",
    "    }\n",
    "    response = requests.get(url, params=params)\n",
    "    if response.status_code != 200:\n",
    "        raise Exception(f\"ParaSwap prices API call failed: {response.text}\")\n",
    "\n",
    "    return response.json()\n",
    "\n",
    "def get_paraswap_transaction(prices_data, user_address):\n",
    "    url = f\"https://apiv5.paraswap.io/transactions/{prices_data['priceRoute']['network']}\"\n",
    "    body = {\n",
    "        \"priceRoute\": prices_data['priceRoute'],\n",
    "        \"srcToken\": prices_data['priceRoute']['srcToken'],\n",
    "        \"destToken\": prices_data['priceRoute']['destToken'],\n",
    "        \"srcAmount\": prices_data['priceRoute']['srcAmount'],\n",
    "        \"destAmount\": prices_data['priceRoute']['destAmount'],\n",
    "        \"userAddress\": user_address,\n",
    "        \"partnerAddress\": user_address,\n",
    "        #\"deadline\": prices_data['priceRoute']['deadline'], \n",
    "    }\n",
    "    headers = {\n",
    "        \"Content-Type\": \"application/json\"\n",
    "    }\n",
    "    response = requests.post(url, json=body, headers=headers)\n",
    "    if response.status_code != 200:\n",
    "        raise Exception(f\"ParaSwap transactions API call failed: {response.text}\")\n",
    "\n",
    "    return response.json()\n",
    "\n",
    "# Parameters for the swap_collateral function\n",
    "swap_from_token = next((token for token in aave_client.active_network.aave_tokens if token.symbol == 'USDT'), None)  # ReserveToken to swap from\n",
    "swap_to_token = next((token for token in aave_client.active_network.aave_tokens if token.symbol == 'USDC'), None)    # ReserveToken to swap to\n",
    "amount_to_swap = int(0.999 * total_supply * 10 ** swap_from_token.decimals) # Amount to swap\n",
    "\n",
    "# Get ParaSwap prices\n",
    "prices_data = get_paraswap_prices(swap_from_token.address, swap_to_token.address, amount_to_swap, swap_from_token.decimals, swap_to_token.decimals)\n",
    "print(f\"ParaSwap prices data: {prices_data}\")\n",
    "\n",
    "# Approve the TokenTransferProxy to spend the aTokens\n",
    "approval_amount = prices_data['priceRoute']['srcAmount']\n",
    "token_transer_proxy_contract = aave_client.get_token_transfer_paraswap_proxy()\n",
    "approval_gas = aave_client.approve_erc20(swap_from_token.address, token_transer_proxy_contract, int(approval_amount))\n",
    "print(f\"Approved {approval_amount} of {swap_from_token.address} for contract {token_transer_proxy_contract.address}\")\n",
    "\n",
    "# Get ParaSwap transaction data\n",
    "transaction_data = get_paraswap_transaction(prices_data, user_address)\n",
    "print(f\"ParaSwap transaction data: {transaction_data}\")\n",
    "\n",
    "\n",
    "# Sign the transaction\n",
    "signed_txn = web3.eth.account.sign_transaction(transaction, private_key=private_key)\n",
    "\n",
    "# Send the transaction\n",
    "tx_hash = web3.eth.send_raw_transaction(signed_txn.rawTransaction)\n",
    "\n",
    "# Wait for the transaction receipt\n",
    "tx_receipt = web3.eth.wait_for_transaction_receipt(tx_hash)"
   ]
  },
  {
   "cell_type": "code",
   "execution_count": 23,
   "metadata": {},
   "outputs": [
    {
     "name": "stdout",
     "output_type": "stream",
     "text": [
      "Approved 99971093 of 0x6ab707Aca953eDAeFBc4fD23bA73294241490620 for contract 0xF3C3F14dd7BDb7E03e6EBc3bc5Ffc6D66De12251\n",
      "Error executing swap and deposit: Could not execute swap and deposit - Error: ('Panic error 0x11: Arithmetic operation results in underflow or overflow.', '0x4e487b710000000000000000000000000000000000000000000000000000000000000011')\n"
     ]
    }
   ],
   "source": [
    "\n",
    "\n",
    "swap_all_balance_offset = 0  # Set to 0 if not swapping all balance\n",
    "swap_calldata = b''  # Calldata for ParaSwap's AugustusSwapper contract (example)\n",
    "\n",
    "# Permit parameters - example with zero values\n",
    "permit_params = (\n",
    "    to_int(0),  # uint256 value\n",
    "    to_int(0),  # uint256 value\n",
    "    to_int(0),  # uint8 value\n",
    "    to_bytes(b'\\x00' * 32),  # bytes32 value\n",
    "    to_bytes(b'\\x00' * 32)   # bytes32 value\n",
    ")\n",
    "\n",
    "# Perform the swap and deposit\n",
    "try:\n",
    "    receipt = aave_client.swap_collateral(\n",
    "        swap_from_token=swap_from_token,\n",
    "        swap_to_token=swap_to_token,\n",
    "        amount_to_swap=amount_to_swap,\n",
    "        swap_all_balance_offset=swap_all_balance_offset,\n",
    "        swap_calldata=swap_calldata,\n",
    "        permit_params=permit_params\n",
    "    )\n",
    "    print(f\"Swap and deposit transaction completed. Receipt: {receipt}\")\n",
    "except Exception as e:\n",
    "    print(f\"Error executing swap and deposit: {e}\")\n"
   ]
  },
  {
   "cell_type": "code",
   "execution_count": null,
   "metadata": {},
   "outputs": [],
   "source": [
    "\n",
    "# Miscellaneous Test Cases:\n",
    "token = aave_client.get_reserve_token(\"USDT\")\n",
    "amount = 1\n",
    "print(f\"{token.symbol} Decimal Units Amount:\", int(amount * (10 ** int(token.decimals))))\n",
    "\n",
    "borrow_token = aave_client.get_reserve_token(\"USDC\")\n",
    "borrow_percentage = 1.0\n",
    "total_borrowable_in_eth, total_debt_eth, total_collateral_eth = aave_client.get_user_data(lending_pool)\n",
    "print(\"Borrowable (ETH):\", total_borrowable_in_eth, \"Debt (ETH):\", total_debt_eth, \"Collateral (ETH):\", total_collateral_eth)\n",
    "#weth_to_borrow_asset = aave_client.get_asset_price(base_address=token.address, quote_address=borrow_token.address)\n",
    "#print(weth_to_borrow_asset)\n",
    "#amount_to_borrow = weth_to_borrow_asset * (total_borrowable_in_eth * borrow_percentage)\n",
    "#print(\"\\nAmount to borrow:\", amount_to_borrow, borrow_token.symbol)\n",
    "#print(f\"\\nOutstanding Debt (in ETH): {total_debt_eth:.18f} ({total_debt_eth * weth_to_borrow_asset} DAI)\")\n",
    "\n",
    "pprint(aave_client.list_reserve_tokens())\n",
    "# So, 1.2 USDC will be 1.2 * 10 ^ 6"
   ]
  }
 ],
 "metadata": {
  "kernelspec": {
   "display_name": "aave_functions",
   "language": "python",
   "name": "python3"
  },
  "language_info": {
   "codemirror_mode": {
    "name": "ipython",
    "version": 3
   },
   "file_extension": ".py",
   "mimetype": "text/x-python",
   "name": "python",
   "nbconvert_exporter": "python",
   "pygments_lexer": "ipython3",
   "version": "3.9.6"
  }
 },
 "nbformat": 4,
 "nbformat_minor": 2
}
